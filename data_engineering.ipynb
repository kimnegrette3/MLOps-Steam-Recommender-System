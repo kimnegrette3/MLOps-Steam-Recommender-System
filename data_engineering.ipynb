{
 "cells": [
  {
   "cell_type": "markdown",
   "metadata": {},
   "source": [
    "# ETL del proyecto Steam_Recomendations"
   ]
  },
  {
   "cell_type": "markdown",
   "metadata": {},
   "source": [
    "## 1. Extraccion"
   ]
  },
  {
   "cell_type": "code",
   "execution_count": 1,
   "metadata": {},
   "outputs": [],
   "source": [
    "import pandas as pd\n",
    "import numpy as np\n",
    "import ast\n",
    "\n",
    "def load_json_lines(file_path):\n",
    "    data = []\n",
    "    with open(file_path, \"r\", encoding=\"utf-8\") as file:\n",
    "        for line in file:\n",
    "            data.append(ast.literal_eval(line))\n",
    "    return pd.DataFrame(data)\n",
    "\n",
    "# Cargar archivos\n",
    "df_output = pd.read_json(\"./datasets/output_steam_games.json\", lines=True)\n",
    "df_user_rev = load_json_lines(\"./datasets/australian_user_reviews.json\")\n",
    "df_user_items = load_json_lines(\"./datasets/australian_users_items.json\")\n",
    "\n"
   ]
  },
  {
   "cell_type": "code",
   "execution_count": 5,
   "metadata": {},
   "outputs": [],
   "source": [
    "# archives games\n",
    "df_output = df_output.dropna(how='all')\n",
    "df_output.to_csv(r'./datasets/steam_games.csv',index=False)"
   ]
  },
  {
   "cell_type": "code",
   "execution_count": 2,
   "metadata": {},
   "outputs": [
    {
     "data": {
      "text/html": [
       "<div>\n",
       "<style scoped>\n",
       "    .dataframe tbody tr th:only-of-type {\n",
       "        vertical-align: middle;\n",
       "    }\n",
       "\n",
       "    .dataframe tbody tr th {\n",
       "        vertical-align: top;\n",
       "    }\n",
       "\n",
       "    .dataframe thead th {\n",
       "        text-align: right;\n",
       "    }\n",
       "</style>\n",
       "<table border=\"1\" class=\"dataframe\">\n",
       "  <thead>\n",
       "    <tr style=\"text-align: right;\">\n",
       "      <th></th>\n",
       "      <th>user_id</th>\n",
       "      <th>items_count</th>\n",
       "      <th>steam_id</th>\n",
       "      <th>user_url</th>\n",
       "      <th>items</th>\n",
       "    </tr>\n",
       "  </thead>\n",
       "  <tbody>\n",
       "    <tr>\n",
       "      <th>0</th>\n",
       "      <td>76561197970982479</td>\n",
       "      <td>277</td>\n",
       "      <td>76561197970982479</td>\n",
       "      <td>http://steamcommunity.com/profiles/76561197970...</td>\n",
       "      <td>[{'item_id': '10', 'item_name': 'Counter-Strik...</td>\n",
       "    </tr>\n",
       "    <tr>\n",
       "      <th>1</th>\n",
       "      <td>js41637</td>\n",
       "      <td>888</td>\n",
       "      <td>76561198035864385</td>\n",
       "      <td>http://steamcommunity.com/id/js41637</td>\n",
       "      <td>[{'item_id': '10', 'item_name': 'Counter-Strik...</td>\n",
       "    </tr>\n",
       "    <tr>\n",
       "      <th>2</th>\n",
       "      <td>evcentric</td>\n",
       "      <td>137</td>\n",
       "      <td>76561198007712555</td>\n",
       "      <td>http://steamcommunity.com/id/evcentric</td>\n",
       "      <td>[{'item_id': '1200', 'item_name': 'Red Orchest...</td>\n",
       "    </tr>\n",
       "    <tr>\n",
       "      <th>3</th>\n",
       "      <td>Riot-Punch</td>\n",
       "      <td>328</td>\n",
       "      <td>76561197963445855</td>\n",
       "      <td>http://steamcommunity.com/id/Riot-Punch</td>\n",
       "      <td>[{'item_id': '10', 'item_name': 'Counter-Strik...</td>\n",
       "    </tr>\n",
       "    <tr>\n",
       "      <th>4</th>\n",
       "      <td>doctr</td>\n",
       "      <td>541</td>\n",
       "      <td>76561198002099482</td>\n",
       "      <td>http://steamcommunity.com/id/doctr</td>\n",
       "      <td>[{'item_id': '300', 'item_name': 'Day of Defea...</td>\n",
       "    </tr>\n",
       "  </tbody>\n",
       "</table>\n",
       "</div>"
      ],
      "text/plain": [
       "             user_id  items_count           steam_id  \\\n",
       "0  76561197970982479          277  76561197970982479   \n",
       "1            js41637          888  76561198035864385   \n",
       "2          evcentric          137  76561198007712555   \n",
       "3         Riot-Punch          328  76561197963445855   \n",
       "4              doctr          541  76561198002099482   \n",
       "\n",
       "                                            user_url  \\\n",
       "0  http://steamcommunity.com/profiles/76561197970...   \n",
       "1               http://steamcommunity.com/id/js41637   \n",
       "2             http://steamcommunity.com/id/evcentric   \n",
       "3            http://steamcommunity.com/id/Riot-Punch   \n",
       "4                 http://steamcommunity.com/id/doctr   \n",
       "\n",
       "                                               items  \n",
       "0  [{'item_id': '10', 'item_name': 'Counter-Strik...  \n",
       "1  [{'item_id': '10', 'item_name': 'Counter-Strik...  \n",
       "2  [{'item_id': '1200', 'item_name': 'Red Orchest...  \n",
       "3  [{'item_id': '10', 'item_name': 'Counter-Strik...  \n",
       "4  [{'item_id': '300', 'item_name': 'Day of Defea...  "
      ]
     },
     "execution_count": 2,
     "metadata": {},
     "output_type": "execute_result"
    }
   ],
   "source": [
    "df_user_items.head()"
   ]
  },
  {
   "cell_type": "code",
   "execution_count": 6,
   "metadata": {},
   "outputs": [],
   "source": [
    "# archivo items\n",
    "expanded_records = []\n",
    "\n",
    "for index,row in df_user_items.iterrows():\n",
    "    user_id  = row['user_id']\n",
    "    steam_id = row['steam_id']\n",
    "    user_url = row['user_url']\n",
    "    items_count = row['items_count']\n",
    "\n",
    "    items_list = row['items']\n",
    "\n",
    "    for it in items_list:\n",
    "        # diccionario del nuevo df expandido\n",
    "        new_item = {    'items_count':items_count,\n",
    "                        'steam_id' : steam_id,\n",
    "                        'user_url' : user_url,\n",
    "                        **it  \n",
    "                    }\n",
    "        expanded_records.append(new_item)\n",
    "\n",
    "df_exp_items = pd.DataFrame(expanded_records)\n",
    "df_exp_items.to_csv(r'./datasets/aus_users_items.csv',index=False)\n"
   ]
  },
  {
   "cell_type": "code",
   "execution_count": 7,
   "metadata": {},
   "outputs": [],
   "source": [
    "# archivo reviews\n",
    "expanded_records = []\n",
    "\n",
    "for index,row in df_user_rev.iterrows():\n",
    "    user_id  = row['user_id']\n",
    "    user_url = row['user_url']\n",
    "\n",
    "    review_list = row['reviews']\n",
    "\n",
    "    for it in review_list:\n",
    "        # diccionario del nuevo df expandido\n",
    "        new_item = {    'steam_id' : steam_id ,\n",
    "                        'user_url' : user_url,\n",
    "                        **it\n",
    "                    }\n",
    "        expanded_records.append(new_item)\n",
    "\n",
    "df_exp_revs = pd.DataFrame(expanded_records)\n",
    "df_exp_revs.to_csv(r'./datasets/aus_user_revs.csv',index=False)\n",
    "\n"
   ]
  },
  {
   "cell_type": "code",
   "execution_count": null,
   "metadata": {},
   "outputs": [],
   "source": []
  },
  {
   "cell_type": "markdown",
   "metadata": {},
   "source": [
    "Transformacion"
   ]
  },
  {
   "cell_type": "markdown",
   "metadata": {},
   "source": [
    "Carga"
   ]
  }
 ],
 "metadata": {
  "kernelspec": {
   "display_name": "Python 3",
   "language": "python",
   "name": "python3"
  },
  "language_info": {
   "codemirror_mode": {
    "name": "ipython",
    "version": 3
   },
   "file_extension": ".py",
   "mimetype": "text/x-python",
   "name": "python",
   "nbconvert_exporter": "python",
   "pygments_lexer": "ipython3",
   "version": "3.10.8"
  },
  "orig_nbformat": 4
 },
 "nbformat": 4,
 "nbformat_minor": 2
}
