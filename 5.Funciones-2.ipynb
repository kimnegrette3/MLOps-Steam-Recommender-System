{
 "cells": [
  {
   "cell_type": "markdown",
   "metadata": {},
   "source": [
    "def countreviews( YYYY-MM-DD y YYYY-MM-DD : str ): Cantidad de usuarios que realizaron reviews entre las fechas dadas  y, el porcentaje de recomendación de los mismos en base a reviews.recommend."
   ]
  },
  {
   "cell_type": "code",
   "execution_count": 100,
   "metadata": {},
   "outputs": [],
   "source": [
    "#IMPORTAR LIBRERIAS\n",
    "import pandas as pd"
   ]
  },
  {
   "cell_type": "code",
   "execution_count": 101,
   "metadata": {},
   "outputs": [],
   "source": [
    "#USAR SOLO LAS COLUMNAS QUE SIRVEN\n",
    "df_counter=pd.read_csv(\"game_reviews.csv\", usecols=[\"user_id\",\"posted\",\"recommend\"])"
   ]
  },
  {
   "cell_type": "code",
   "execution_count": 102,
   "metadata": {},
   "outputs": [],
   "source": [
    "#DIVIDIR LAS COLUMNAS DE FECHA PARA PODER LIMPIAR LOS DATOS\n",
    "df1=df_counter[\"posted\"].str.split(expand=True)"
   ]
  },
  {
   "cell_type": "code",
   "execution_count": 103,
   "metadata": {},
   "outputs": [],
   "source": [
    "#ESCOGER LAS COLUMNAS UTILES\n",
    "df1=df1.iloc[:,1:4]"
   ]
  },
  {
   "cell_type": "code",
   "execution_count": 104,
   "metadata": {},
   "outputs": [],
   "source": [
    "#UNIR COLUMNAS QUE FUERON DIVIDIDAS\n",
    "df_counter=pd.concat([df_counter,df1], axis='columns').drop(columns=[\"posted\"])"
   ]
  },
  {
   "cell_type": "code",
   "execution_count": 105,
   "metadata": {},
   "outputs": [],
   "source": [
    "#RENOMBRAS LAS COLUMNAS\n",
    "df_counter.rename(columns={1:\"Month\",2:\"Day\",3:\"Year\"}, inplace=True)"
   ]
  },
  {
   "cell_type": "code",
   "execution_count": 106,
   "metadata": {},
   "outputs": [],
   "source": [
    "#LIMPIAR LA PUNTUACION EN LAS COLUMNAS PARA LUEGO PODER UNIRLAS\n",
    "import string\n",
    "df_counter[\"Day\"] = df_counter[\"Day\"].str.replace('[{}]'.format(string.punctuation), '',regex=True)\n",
    "df_counter[\"Year\"] = df_counter[\"Year\"].str.replace('[{}]'.format(string.punctuation), '',regex=True)"
   ]
  },
  {
   "cell_type": "code",
   "execution_count": 107,
   "metadata": {},
   "outputs": [],
   "source": [
    "#REEMPLAZAR LOS AÑOS QUE NO ESTAN CON LA MODA\n",
    "df_counter['Year'].fillna(df_counter['Year'].mode()[0], inplace=True)"
   ]
  },
  {
   "cell_type": "code",
   "execution_count": 108,
   "metadata": {},
   "outputs": [],
   "source": [
    "#REEMPLAZAR LA COLUMNA DE MESES CON LOS MESES NUMERICOS\n",
    "df_counter[\"Month\"].replace({\"January\":\"01\",\"February\":\"02\",\"March\":\"03\",\"April\":\"04\",\"May\":\"05\",\n",
    "     \"June\":\"06\",\"July\":\"07\",\"August\":\"08\",\"September\":\"09\",\"October\":\"10\",\"November\":\"11\",\"December\":\"12\"},inplace=True)"
   ]
  },
  {
   "cell_type": "code",
   "execution_count": 109,
   "metadata": {},
   "outputs": [],
   "source": [
    "#CREAR UNA COLUMNA DE FECHA DONDE ESTAN JUNTAS LAS FILAS DE DIA, MES, AÑO\n",
    "df_counter[\"Fecha\"]= df_counter[\"Year\"]+\"-\"+df_counter[\"Month\"]+\"-\"+df_counter[\"Day\"]"
   ]
  },
  {
   "cell_type": "code",
   "execution_count": 110,
   "metadata": {},
   "outputs": [],
   "source": [
    "#CONVERTIR LA COLUMNA DE FECHA EN TIPO STRING\n",
    "df_counter[\"Fecha\"]=df_counter[\"Fecha\"].astype(str)"
   ]
  },
  {
   "cell_type": "code",
   "execution_count": 111,
   "metadata": {},
   "outputs": [],
   "source": [
    "#HACER LA FUNCION QUE CONVIERTE LA FECHA EN TIPO DATETIME\n",
    "def time(df):\n",
    "    for index,item in enumerate(df[\"Fecha\"]):\n",
    "        try:\n",
    "            datetime.strptime(item, \"%Y-%m-%d\").date()\n",
    "        \n",
    "        except:\n",
    "            print(index)\n",
    "            print(item)"
   ]
  },
  {
   "cell_type": "code",
   "execution_count": 112,
   "metadata": {},
   "outputs": [],
   "source": [
    "#REEMPLAZAR LOS VALORES DIFERENTES COMO LA DEL 29 DE FEBRERO\n",
    "df_counter[\"Fecha\"].replace({\"2014-02-29\":\"2014-02-28\"}, inplace=True)"
   ]
  },
  {
   "cell_type": "code",
   "execution_count": 114,
   "metadata": {},
   "outputs": [
    {
     "data": {
      "text/plain": [
       "0    2014-06-21\n",
       "Name: Fecha, dtype: object"
      ]
     },
     "execution_count": 114,
     "metadata": {},
     "output_type": "execute_result"
    }
   ],
   "source": [
    "#ENCONTRAR LA MODA PARA REEMPLAZARLO EN LA FECHA\n",
    "df_counter[\"Fecha\"].mode()"
   ]
  },
  {
   "cell_type": "code",
   "execution_count": 115,
   "metadata": {},
   "outputs": [],
   "source": [
    "#REEMPLAZAR LA MODA EN LAS FILAS DONDE NO HAY VALORES\n",
    "df_counter[\"Fecha\"].replace({\"nan\":\"2014-06-21\"}, inplace=True)"
   ]
  },
  {
   "cell_type": "code",
   "execution_count": 116,
   "metadata": {},
   "outputs": [],
   "source": [
    "#APLICAR LA FUNCION A LA DF_COUNTER\n",
    "time(df_counter)"
   ]
  },
  {
   "cell_type": "code",
   "execution_count": 117,
   "metadata": {},
   "outputs": [],
   "source": [
    "#ELIMINAR LAS COLUMNAS QUE NO SIRVEN \n",
    "df_counter.drop(columns=[\"Month\",\"Day\",\"Year\"],inplace=True)"
   ]
  },
  {
   "cell_type": "code",
   "execution_count": 139,
   "metadata": {},
   "outputs": [],
   "source": [
    "df_counter.to_csv(\"df_counter_func_2.csv\",index=False)"
   ]
  },
  {
   "cell_type": "code",
   "execution_count": 119,
   "metadata": {},
   "outputs": [
    {
     "data": {
      "text/plain": [
       "recommend\n",
       "True     52040\n",
       "False     6823\n",
       "Name: count, dtype: int64"
      ]
     },
     "execution_count": 119,
     "metadata": {},
     "output_type": "execute_result"
    }
   ],
   "source": [
    "#CONTAR LOS REVIEWS POR FECHAS\n",
    "(df_counter[df_counter[\"Fecha\"]>\"2011-11-5\"][\"recommend\"]).value_counts()"
   ]
  },
  {
   "cell_type": "code",
   "execution_count": 120,
   "metadata": {},
   "outputs": [
    {
     "data": {
      "text/plain": [
       "16978"
      ]
     },
     "execution_count": 120,
     "metadata": {},
     "output_type": "execute_result"
    }
   ],
   "source": [
    "#CONTAR LOS USER POR FECHAS\n",
    "df_counter[(df_counter[\"Fecha\"]>\"2011-11-5\")& (df_counter[\"Fecha\"]<\"2014-07-8\")][\"user_id\"].nunique()"
   ]
  },
  {
   "cell_type": "code",
   "execution_count": 128,
   "metadata": {},
   "outputs": [],
   "source": [
    "#CONTAR LAS REVIEWS POR FECHAS\n",
    "recommend=df_counter[(df_counter[\"Fecha\"]>\"2011-11-5\")& (df_counter[\"Fecha\"]<\"2014-07-8\")][\"recommend\"]"
   ]
  },
  {
   "cell_type": "code",
   "execution_count": 135,
   "metadata": {},
   "outputs": [],
   "source": [
    "#ENCONTRAR EL PORCENTAJE DE RECOMENDACIONES \n",
    "porce_recom=(recommend.value_counts()[True])/len(recommend)"
   ]
  },
  {
   "cell_type": "code",
   "execution_count": null,
   "metadata": {},
   "outputs": [],
   "source": [
    "#FUNCION DE RECOMENDACION\n",
    "def countreviews( fecha1,fecha2 : str ):\n",
    "    df_counter=pd.read_csv(\"df_counter_func_2.csv\")\n",
    "    cantidad_usu_rese=df_counter[(df_counter[\"Fecha\"]>fecha1)& (df_counter[\"Fecha\"]<fecha2)][\"user_id\"].nunique()\n",
    "    recommend=df_counter[(df_counter[\"Fecha\"]>fecha1)& (df_counter[\"Fecha\"]<fecha2)][\"recommend\"]\n",
    "    porce_recom=(recommend.value_counts()[True])/len(recommend)\n",
    "\n",
    "\n",
    "    return cantidad_usu_rese, porce_recom"
   ]
  }
 ],
 "metadata": {
  "kernelspec": {
   "display_name": "Python 3",
   "language": "python",
   "name": "python3"
  },
  "language_info": {
   "codemirror_mode": {
    "name": "ipython",
    "version": 3
   },
   "file_extension": ".py",
   "mimetype": "text/x-python",
   "name": "python",
   "nbconvert_exporter": "python",
   "pygments_lexer": "ipython3",
   "version": "3.10.6"
  },
  "orig_nbformat": 4
 },
 "nbformat": 4,
 "nbformat_minor": 2
}
