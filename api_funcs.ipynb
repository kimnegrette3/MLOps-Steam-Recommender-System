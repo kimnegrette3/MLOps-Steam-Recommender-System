{
 "cells": [
  {
   "cell_type": "markdown",
   "metadata": {},
   "source": [
    "**`Desarrollo API`**:   Propones disponibilizar los datos de la empresa usando el framework ***FastAPI***. Las consultas que propones son las siguientes:\n",
    "\n",
    "<sub> Debes crear las siguientes funciones para los endpoints que se consumirán en la API, recuerden que deben tener un decorador por cada una (@app.get(‘/’)).<sub/>"
   ]
  },
  {
   "cell_type": "markdown",
   "metadata": {},
   "source": [
    "+ def **userdata( *`User_id` : str* )**:\n",
    "    Debe devolver `cantidad` de dinero gastado por el usuario, el `porcentaje` de recomendación en base a reviews.recommend y `cantidad de items`."
   ]
  },
  {
   "cell_type": "code",
   "execution_count": null,
   "metadata": {},
   "outputs": [],
   "source": []
  },
  {
   "cell_type": "markdown",
   "metadata": {},
   "source": [
    "+ def **countreviews( *`YYYY-MM-DD` y `YYYY-MM-DD` : str* )**:\n",
    "    `Cantidad de usuarios` que realizaron reviews entre las fechas dadas y, el `porcentaje` de recomendación de los mismos en base a reviews.recommend."
   ]
  },
  {
   "cell_type": "code",
   "execution_count": null,
   "metadata": {},
   "outputs": [],
   "source": []
  },
  {
   "cell_type": "markdown",
   "metadata": {},
   "source": [
    "+ def **genre( *`género` : str* )**:\n",
    "    Devuelve el `puesto` en el que se encuentra un género sobre el ranking de los mismos analizado bajo la columna PlayTimeForever. "
   ]
  },
  {
   "cell_type": "code",
   "execution_count": 88,
   "metadata": {},
   "outputs": [
    {
     "data": {
      "text/html": [
       "<div>\n",
       "<style scoped>\n",
       "    .dataframe tbody tr th:only-of-type {\n",
       "        vertical-align: middle;\n",
       "    }\n",
       "\n",
       "    .dataframe tbody tr th {\n",
       "        vertical-align: top;\n",
       "    }\n",
       "\n",
       "    .dataframe thead th {\n",
       "        text-align: right;\n",
       "    }\n",
       "</style>\n",
       "<table border=\"1\" class=\"dataframe\">\n",
       "  <thead>\n",
       "    <tr style=\"text-align: right;\">\n",
       "      <th></th>\n",
       "      <th>item_id</th>\n",
       "      <th>playtime_forever</th>\n",
       "    </tr>\n",
       "  </thead>\n",
       "  <tbody>\n",
       "    <tr>\n",
       "      <th>0</th>\n",
       "      <td>10</td>\n",
       "      <td>6</td>\n",
       "    </tr>\n",
       "    <tr>\n",
       "      <th>1</th>\n",
       "      <td>20</td>\n",
       "      <td>0</td>\n",
       "    </tr>\n",
       "    <tr>\n",
       "      <th>2</th>\n",
       "      <td>30</td>\n",
       "      <td>7</td>\n",
       "    </tr>\n",
       "  </tbody>\n",
       "</table>\n",
       "</div>"
      ],
      "text/plain": [
       "   item_id  playtime_forever\n",
       "0       10                 6\n",
       "1       20                 0\n",
       "2       30                 7"
      ]
     },
     "execution_count": 88,
     "metadata": {},
     "output_type": "execute_result"
    }
   ],
   "source": [
    "import pandas as pd\n",
    "\n",
    "columnas = ['item_id','playtime_forever']\n",
    "df = pd.read_csv(r'./datasets/aus_users_items.csv',usecols=columnas)\n",
    "df.head(3)"
   ]
  },
  {
   "cell_type": "code",
   "execution_count": 89,
   "metadata": {},
   "outputs": [
    {
     "data": {
      "text/html": [
       "<div>\n",
       "<style scoped>\n",
       "    .dataframe tbody tr th:only-of-type {\n",
       "        vertical-align: middle;\n",
       "    }\n",
       "\n",
       "    .dataframe tbody tr th {\n",
       "        vertical-align: top;\n",
       "    }\n",
       "\n",
       "    .dataframe thead th {\n",
       "        text-align: right;\n",
       "    }\n",
       "</style>\n",
       "<table border=\"1\" class=\"dataframe\">\n",
       "  <thead>\n",
       "    <tr style=\"text-align: right;\">\n",
       "      <th></th>\n",
       "      <th>item_id</th>\n",
       "      <th>playtime_forever</th>\n",
       "    </tr>\n",
       "  </thead>\n",
       "  <tbody>\n",
       "    <tr>\n",
       "      <th>0</th>\n",
       "      <td>10</td>\n",
       "      <td>17386015</td>\n",
       "    </tr>\n",
       "    <tr>\n",
       "      <th>1</th>\n",
       "      <td>20</td>\n",
       "      <td>961702</td>\n",
       "    </tr>\n",
       "    <tr>\n",
       "      <th>2</th>\n",
       "      <td>30</td>\n",
       "      <td>758991</td>\n",
       "    </tr>\n",
       "    <tr>\n",
       "      <th>3</th>\n",
       "      <td>40</td>\n",
       "      <td>154486</td>\n",
       "    </tr>\n",
       "    <tr>\n",
       "      <th>4</th>\n",
       "      <td>50</td>\n",
       "      <td>734562</td>\n",
       "    </tr>\n",
       "  </tbody>\n",
       "</table>\n",
       "</div>"
      ],
      "text/plain": [
       "   item_id  playtime_forever\n",
       "0       10          17386015\n",
       "1       20            961702\n",
       "2       30            758991\n",
       "3       40            154486\n",
       "4       50            734562"
      ]
     },
     "execution_count": 89,
     "metadata": {},
     "output_type": "execute_result"
    }
   ],
   "source": [
    "df_playhours = pd.DataFrame(df.groupby('item_id')['playtime_forever'].agg('sum')).reset_index()\n",
    "df_playhours.head()"
   ]
  },
  {
   "cell_type": "code",
   "execution_count": 90,
   "metadata": {},
   "outputs": [],
   "source": [
    "columnas = ['id','genres']\n",
    "df = pd.read_csv(r'./datasets/steam_games.csv',usecols=columnas)\n",
    "df.rename(columns={'id':'item_id'},inplace=True)\n",
    "df_merge = df_playhours.merge(df,on='item_id',how='left')\n",
    "df_merge = df_merge[df_merge['playtime_forever'] != 0]\n",
    "df_merge = df_merge.dropna(subset=['genres'])\n",
    "# df_merge['genres'] = df_merge['genres'].astype(list)\n",
    "# df_merge.sample(20)\n",
    "import ast\n",
    "\n",
    "def tolist(lst):\n",
    "    text= \"\"\n",
    "    if isinstance(lst, str) :\n",
    "        lst = lst.replace(\"0's\",'0s')\n",
    "        lst =  ast.literal_eval(lst)\n",
    "        # try:\n",
    "        #     lst =  ast.literal_eval(lst)\n",
    "        # except (SyntaxError, ValueError):\n",
    "        #     return lst.lower()\n",
    "\n",
    "    return list(lst)\n",
    "\n",
    "df_merge['genres'] = df_merge['genres'].apply(lambda x : tolist(x))"
   ]
  },
  {
   "cell_type": "code",
   "execution_count": 91,
   "metadata": {},
   "outputs": [],
   "source": [
    "def create_genre_columns(dataframe):\n",
    "    genres_list = set()\n",
    "    for genres in dataframe['genres']:\n",
    "        if isinstance(genres, list):\n",
    "            genres_list.update(genres)\n",
    "    \n",
    "    for genre in genres_list:\n",
    "        dataframe[genre] = dataframe['genres'].apply(lambda x: 1 if genre in x else 0)\n",
    "    \n",
    "    return dataframe\n",
    "\n",
    "df_with_genre_columns = create_genre_columns(df_merge)\n",
    "# df_with_genre_columns.drop('genres',axis=1).to_csv('holatest.csv')"
   ]
  },
  {
   "cell_type": "code",
   "execution_count": 92,
   "metadata": {},
   "outputs": [],
   "source": [
    "genre_columns_mapping = {\n",
    "    'Racing': 'Racing',\n",
    "    'Casual': 'Casual',\n",
    "    'Sports': 'Sports',\n",
    "    'Indie': 'Indie',\n",
    "    'Web Publishing': 'Web Publishing',\n",
    "    'Free to Play': 'Free to Play',\n",
    "    'Software Training': 'Software Training',\n",
    "    'RPG': 'RPG',\n",
    "    'Early Access': 'Early Access',\n",
    "    'Animation &amp; Modeling': 'Animation &amp; Modeling',\n",
    "    'Strategy': 'Strategy',\n",
    "    'Audio Production': 'Audio Production',\n",
    "    'Action': 'Action',\n",
    "    'Photo Editing': 'Photo Editing',\n",
    "    'Massively Multiplayer': 'Massively Multiplayer',\n",
    "    'Adventure': 'Adventure',\n",
    "    'Education': 'Education',\n",
    "    'Video Production': 'Video Production',\n",
    "    'Simulation': 'Simulation',\n",
    "    'Utilities': 'Utilities',\n",
    "    'Design &amp; Illustration': 'Design &amp; Illustration'\n",
    "}\n",
    "\n",
    "# Inicializar un diccionario para almacenar las sumas de horas por género\n",
    "genre_hours_sum = {}\n",
    "\n",
    "# Iterar a través del diccionario de mapeo de columnas y calcular las sumas de horas\n",
    "for col_bin, genre in genre_columns_mapping.items():\n",
    "    if col_bin in df_with_genre_columns.columns:\n",
    "        genre_hours_sum[genre] = df_with_genre_columns[df_with_genre_columns[col_bin] == 1]['playtime_forever'].sum()\n",
    "\n",
    "# Crear un DataFrame con las sumas de horas por género\n",
    "genre_summary_df = pd.DataFrame.from_dict(genre_hours_sum, orient='index', columns=['Total_Hours'])\n",
    "\n",
    "# Agregar una columna para el ranking de géneros más jugados\n",
    "genre_summary_df['Rank'] = genre_summary_df['Total_Hours'].rank(ascending=False).astype(int)\n",
    "\n",
    "# Ordenar el DataFrame por las horas totales en orden descendente\n",
    "genre_summary_df = genre_summary_df.sort_values(by='Total_Hours', ascending=False)\n",
    "\n",
    "# Agregar el nombre \"Genre\" a la primera columna del índice\n",
    "genre_summary_df = genre_summary_df.rename_axis('Genre')\n",
    "\n",
    "# Mostrar el DataFrame con el ranking y las sumas de horas por género\n",
    "genre_summary_df.to_csv(r'./dataquery/gener_rank.csv')\n"
   ]
  },
  {
   "cell_type": "code",
   "execution_count": 93,
   "metadata": {},
   "outputs": [],
   "source": [
    "df_genre = pd.read_csv(r'./dataquery/gener_rank.csv')\n",
    "df_genre['Genre'] = df_genre['Genre'].apply(lambda x: x.lower())\n",
    "df_genre.to_csv(r'./dataquery/gener_rank.csv',index=False)"
   ]
  },
  {
   "cell_type": "code",
   "execution_count": 94,
   "metadata": {},
   "outputs": [
    {
     "data": {
      "text/html": [
       "<div>\n",
       "<style scoped>\n",
       "    .dataframe tbody tr th:only-of-type {\n",
       "        vertical-align: middle;\n",
       "    }\n",
       "\n",
       "    .dataframe tbody tr th {\n",
       "        vertical-align: top;\n",
       "    }\n",
       "\n",
       "    .dataframe thead th {\n",
       "        text-align: right;\n",
       "    }\n",
       "</style>\n",
       "<table border=\"1\" class=\"dataframe\">\n",
       "  <thead>\n",
       "    <tr style=\"text-align: right;\">\n",
       "      <th></th>\n",
       "      <th>Genre</th>\n",
       "      <th>Total_Hours</th>\n",
       "      <th>Rank</th>\n",
       "    </tr>\n",
       "  </thead>\n",
       "  <tbody>\n",
       "    <tr>\n",
       "      <th>0</th>\n",
       "      <td>action</td>\n",
       "      <td>3113562606</td>\n",
       "      <td>1</td>\n",
       "    </tr>\n",
       "    <tr>\n",
       "      <th>1</th>\n",
       "      <td>indie</td>\n",
       "      <td>1494622404</td>\n",
       "      <td>2</td>\n",
       "    </tr>\n",
       "    <tr>\n",
       "      <th>2</th>\n",
       "      <td>rpg</td>\n",
       "      <td>1041022718</td>\n",
       "      <td>3</td>\n",
       "    </tr>\n",
       "  </tbody>\n",
       "</table>\n",
       "</div>"
      ],
      "text/plain": [
       "    Genre  Total_Hours  Rank\n",
       "0  action   3113562606     1\n",
       "1   indie   1494622404     2\n",
       "2     rpg   1041022718     3"
      ]
     },
     "execution_count": 94,
     "metadata": {},
     "output_type": "execute_result"
    }
   ],
   "source": [
    "df_genre.head(3)"
   ]
  },
  {
   "cell_type": "code",
   "execution_count": 104,
   "metadata": {},
   "outputs": [
    {
     "name": "stdout",
     "output_type": "stream",
     "text": [
      "\"[{\\\"Genre\\\":\\\"indie\\\",\\\"Total_Hours\\\":1494622404,\\\"Rank\\\":2}]\"\n"
     ]
    }
   ],
   "source": [
    "import json\n",
    "\n",
    "def get_genre_info(genre):\n",
    "    genre = genre.lower()\n",
    "    df_genre = pd.read_csv(r'./dataquery/gener_rank.csv')\n",
    "    \n",
    "    if df_genre['Genre'].str.contains(genre).any():\n",
    "        genre_info = df_genre[df_genre['Genre']==genre]\n",
    "    else:\n",
    "        return 'No se encontro el genero'\n",
    "    return json.dumps(genre_info.to_json(orient='records'), indent=4)\n",
    "\n",
    "# Prueba la función con un género\n",
    "genre_to_check = 'indie'\n",
    "genre_info_json = get_genre_info(genre_to_check)\n",
    "print(genre_info_json)"
   ]
  },
  {
   "cell_type": "markdown",
   "metadata": {},
   "source": [
    "# def userforgenre(gener : str)\n",
    "```python\n",
    "def userforgenre( genero : str ):\n",
    "    # Top 5 de usuarios con más horas de juego en el género dado, con su URL (del user) y user_id.\n",
    "```"
   ]
  },
  {
   "cell_type": "code",
   "execution_count": 57,
   "metadata": {},
   "outputs": [],
   "source": [
    "# Crear una tabla que me de las horas jugadas por genero de cada usuario\n",
    "import pandas as pd\n",
    "import ast\n",
    "\n",
    "columnas = ['id','genres'] # Columnas a importar\n",
    "df = pd.read_csv(r'./datasets/steam_games.csv',usecols=columnas)\n",
    "df.rename(columns={'id':'item_id'},inplace=True)\n",
    "df = df.dropna(subset=['genres']) # removemos los items que no tienen un genero definido"
   ]
  },
  {
   "cell_type": "code",
   "execution_count": 58,
   "metadata": {},
   "outputs": [],
   "source": [
    "# Funcion cambia de string a formato list los objetos\n",
    "def tolist(lst):\n",
    "    text= \"\"\n",
    "    if isinstance(lst, str) :\n",
    "        lst = lst.replace(\"0's\",'0s')\n",
    "        lst =  ast.literal_eval(lst)\n",
    "\n",
    "    return list(lst)\n",
    "# Mapeamos la columna con la funcion creada\n",
    "df['genres'] = df['genres'].apply(lambda x : tolist(x))\n"
   ]
  },
  {
   "cell_type": "code",
   "execution_count": 59,
   "metadata": {},
   "outputs": [],
   "source": [
    "# creamos las columnas binarias de los géneros\n",
    "def create_genre_columns(dataframe):\n",
    "    genres_list = set()\n",
    "\n",
    "    # se crea el set con los valores DISTINCT de los géneros\n",
    "    for genres in dataframe['genres']:\n",
    "        if isinstance(genres, list):\n",
    "            genres_list.update(genres)\n",
    "    \n",
    "    # crea una columna por cada genre en genre_list \n",
    "    # le aplica luego se recore la columna genre imputando 1 cuando existe ese genero \n",
    "    # en la fila analizada\n",
    "    for genre in genres_list:\n",
    "        dataframe[genre] = dataframe['genres'].apply(lambda x: 1 if genre in x else 0)\n",
    "    \n",
    "    return dataframe\n",
    "\n",
    "df_binario = create_genre_columns(df)\n",
    "df_binario.drop('genres',axis=1,inplace=True)"
   ]
  },
  {
   "cell_type": "code",
   "execution_count": 60,
   "metadata": {},
   "outputs": [],
   "source": [
    "#importamos el csv de los items por usuario\n",
    "columnas = ['user_id','user_url','item_id','playtime_forever'] # Columnas a importar\n",
    "df_users = pd.read_csv(r'./datasets/aus_users_items.csv',usecols=columnas)\n",
    "\n",
    "# Merge \n",
    "df_users = df_users.merge(df_binario,on='item_id',how='left')\n",
    "df_users.fillna(0,inplace=True)\n",
    "\n",
    "# "
   ]
  },
  {
   "cell_type": "code",
   "execution_count": 80,
   "metadata": {},
   "outputs": [
    {
     "data": {
      "text/html": [
       "<div>\n",
       "<style scoped>\n",
       "    .dataframe tbody tr th:only-of-type {\n",
       "        vertical-align: middle;\n",
       "    }\n",
       "\n",
       "    .dataframe tbody tr th {\n",
       "        vertical-align: top;\n",
       "    }\n",
       "\n",
       "    .dataframe thead th {\n",
       "        text-align: right;\n",
       "    }\n",
       "</style>\n",
       "<table border=\"1\" class=\"dataframe\">\n",
       "  <thead>\n",
       "    <tr style=\"text-align: right;\">\n",
       "      <th></th>\n",
       "      <th>user_id</th>\n",
       "      <th>user_url</th>\n",
       "      <th>indie</th>\n",
       "      <th>racing</th>\n",
       "      <th>sports</th>\n",
       "      <th>audio production</th>\n",
       "      <th>animation &amp;amp; modeling</th>\n",
       "      <th>video production</th>\n",
       "      <th>software training</th>\n",
       "      <th>casual</th>\n",
       "      <th>...</th>\n",
       "      <th>accounting</th>\n",
       "      <th>education</th>\n",
       "      <th>massively multiplayer</th>\n",
       "      <th>action</th>\n",
       "      <th>web publishing</th>\n",
       "      <th>adventure</th>\n",
       "      <th>strategy</th>\n",
       "      <th>rpg</th>\n",
       "      <th>design &amp;amp; illustration</th>\n",
       "      <th>free to play</th>\n",
       "    </tr>\n",
       "  </thead>\n",
       "  <tbody>\n",
       "    <tr>\n",
       "      <th>0</th>\n",
       "      <td>--000--</td>\n",
       "      <td>http://steamcommunity.com/id/--000--</td>\n",
       "      <td>2.855973e+14</td>\n",
       "      <td>0.0</td>\n",
       "      <td>9.164394e+14</td>\n",
       "      <td>0.0</td>\n",
       "      <td>0.0</td>\n",
       "      <td>0.0</td>\n",
       "      <td>0.0</td>\n",
       "      <td>1.517954e+15</td>\n",
       "      <td>...</td>\n",
       "      <td>0.0</td>\n",
       "      <td>0.0</td>\n",
       "      <td>1.304011e+15</td>\n",
       "      <td>1.316654e+20</td>\n",
       "      <td>0.0</td>\n",
       "      <td>6.034457e+14</td>\n",
       "      <td>4.562165e+10</td>\n",
       "      <td>3.377275e+14</td>\n",
       "      <td>0.0</td>\n",
       "      <td>1.580403e+15</td>\n",
       "    </tr>\n",
       "    <tr>\n",
       "      <th>1</th>\n",
       "      <td>--ace--</td>\n",
       "      <td>http://steamcommunity.com/id/--ace--</td>\n",
       "      <td>7.939036e+13</td>\n",
       "      <td>1296.0</td>\n",
       "      <td>0.000000e+00</td>\n",
       "      <td>0.0</td>\n",
       "      <td>0.0</td>\n",
       "      <td>0.0</td>\n",
       "      <td>0.0</td>\n",
       "      <td>7.679685e+13</td>\n",
       "      <td>...</td>\n",
       "      <td>0.0</td>\n",
       "      <td>0.0</td>\n",
       "      <td>0.000000e+00</td>\n",
       "      <td>1.422102e+19</td>\n",
       "      <td>0.0</td>\n",
       "      <td>7.928950e+13</td>\n",
       "      <td>2.441525e+12</td>\n",
       "      <td>2.593277e+12</td>\n",
       "      <td>0.0</td>\n",
       "      <td>7.923867e+13</td>\n",
       "    </tr>\n",
       "    <tr>\n",
       "      <th>2</th>\n",
       "      <td>--ionex--</td>\n",
       "      <td>http://steamcommunity.com/id/--ionex--</td>\n",
       "      <td>6.984439e+11</td>\n",
       "      <td>0.0</td>\n",
       "      <td>0.000000e+00</td>\n",
       "      <td>0.0</td>\n",
       "      <td>0.0</td>\n",
       "      <td>0.0</td>\n",
       "      <td>0.0</td>\n",
       "      <td>9.622141e+09</td>\n",
       "      <td>...</td>\n",
       "      <td>0.0</td>\n",
       "      <td>0.0</td>\n",
       "      <td>5.908721e+09</td>\n",
       "      <td>1.584297e+18</td>\n",
       "      <td>0.0</td>\n",
       "      <td>5.421764e+11</td>\n",
       "      <td>2.300259e+09</td>\n",
       "      <td>5.108389e+11</td>\n",
       "      <td>0.0</td>\n",
       "      <td>2.017012e+11</td>\n",
       "    </tr>\n",
       "  </tbody>\n",
       "</table>\n",
       "<p>3 rows × 24 columns</p>\n",
       "</div>"
      ],
      "text/plain": [
       "     user_id                                user_url         indie  racing  \\\n",
       "0    --000--    http://steamcommunity.com/id/--000--  2.855973e+14     0.0   \n",
       "1    --ace--    http://steamcommunity.com/id/--ace--  7.939036e+13  1296.0   \n",
       "2  --ionex--  http://steamcommunity.com/id/--ionex--  6.984439e+11     0.0   \n",
       "\n",
       "         sports  audio production  animation &amp; modeling  video production  \\\n",
       "0  9.164394e+14               0.0                       0.0               0.0   \n",
       "1  0.000000e+00               0.0                       0.0               0.0   \n",
       "2  0.000000e+00               0.0                       0.0               0.0   \n",
       "\n",
       "   software training        casual  ...  accounting  education  \\\n",
       "0                0.0  1.517954e+15  ...         0.0        0.0   \n",
       "1                0.0  7.679685e+13  ...         0.0        0.0   \n",
       "2                0.0  9.622141e+09  ...         0.0        0.0   \n",
       "\n",
       "   massively multiplayer        action  web publishing     adventure  \\\n",
       "0           1.304011e+15  1.316654e+20             0.0  6.034457e+14   \n",
       "1           0.000000e+00  1.422102e+19             0.0  7.928950e+13   \n",
       "2           5.908721e+09  1.584297e+18             0.0  5.421764e+11   \n",
       "\n",
       "       strategy           rpg  design &amp; illustration  free to play  \n",
       "0  4.562165e+10  3.377275e+14                        0.0  1.580403e+15  \n",
       "1  2.441525e+12  2.593277e+12                        0.0  7.923867e+13  \n",
       "2  2.300259e+09  5.108389e+11                        0.0  2.017012e+11  \n",
       "\n",
       "[3 rows x 24 columns]"
      ]
     },
     "metadata": {},
     "output_type": "display_data"
    }
   ],
   "source": [
    "col_sum = [ 'Indie','Racing','Sports','Audio Production','Animation &amp; Modeling',\n",
    "            'Video Production','Software Training','Casual','Simulation','Utilities',\n",
    "            'Photo Editing','Early Access','Accounting','Education',\n",
    "            'Massively Multiplayer','Action','Web Publishing',\n",
    "            'Adventure','Strategy','RPG','Design &amp; Illustration','Free to Play']\n",
    "for col_name in col_sum:\n",
    "    df_users[col_name] = df_users['playtime_forever'] * df_users[col_name]\n",
    "df_users_group = df_users.groupby(['user_id','user_url'])[col_sum].agg('sum').reset_index()\n",
    "df_users_group.columns = df_users_group.columns.str.lower()\n",
    "display(df_users_group.head(3))\n",
    "df_users_group.to_csv(r'./dataquery/top5_users.csv',index=False)"
   ]
  },
  {
   "cell_type": "code",
   "execution_count": 87,
   "metadata": {},
   "outputs": [
    {
     "data": {
      "text/plain": [
       "[{'user_id': 'Evilutional',\n",
       "  'user_url': 'http://steamcommunity.com/id/Evilutional'},\n",
       " {'user_id': 'shinomegami',\n",
       "  'user_url': 'http://steamcommunity.com/id/shinomegami'},\n",
       " {'user_id': 'thiefofrosesinlalaland',\n",
       "  'user_url': 'http://steamcommunity.com/id/thiefofrosesinlalaland'},\n",
       " {'user_id': '76561198027406146',\n",
       "  'user_url': 'http://steamcommunity.com/profiles/76561198027406146'},\n",
       " {'user_id': 'KingXRay', 'user_url': 'http://steamcommunity.com/id/KingXRay'}]"
      ]
     },
     "execution_count": 87,
     "metadata": {},
     "output_type": "execute_result"
    }
   ],
   "source": [
    "def genre_top5_users(text : str):\n",
    "    text = text.lower().strip()\n",
    "    df1 = pd.read_csv(r'./dataquery/top5_users.csv')\n",
    "    if text not in df1.columns:\n",
    "        return \"Genre not found\"\n",
    "    \n",
    "    top5 = df1.sort_values(by=text,ascending=False).head(5).reset_index()\n",
    "    response = []\n",
    "    for i in range (0 , 5):\n",
    "        user_id = top5['user_id'].loc[i]\n",
    "        user_url = top5['user_url'].loc[i]\n",
    "        item_dict = {\"user_id\":user_id,\n",
    "                     \"user_url\":user_url}\n",
    "        response.append(item_dict)\n",
    "    return response\n",
    "\n",
    "genre_top5_users('rpg ')"
   ]
  },
  {
   "cell_type": "code",
   "execution_count": 63,
   "metadata": {},
   "outputs": [
    {
     "data": {
      "text/plain": [
       "'--ace--'"
      ]
     },
     "execution_count": 63,
     "metadata": {},
     "output_type": "execute_result"
    }
   ],
   "source": []
  },
  {
   "cell_type": "code",
   "execution_count": 64,
   "metadata": {},
   "outputs": [
    {
     "data": {
      "text/plain": [
       "Index(['user_id', 'user_url', 'item_id', 'playtime_forever', 'Photo Editing',\n",
       "       'Utilities', 'Casual', 'Sports', 'Early Access', 'Accounting',\n",
       "       'Simulation', 'Indie', 'Education', 'Design &amp; Illustration',\n",
       "       'Free to Play', 'Animation &amp; Modeling', 'Adventure', 'Strategy',\n",
       "       'Web Publishing', 'Racing', 'RPG', 'Action', 'Audio Production',\n",
       "       'Software Training', 'Video Production', 'Massively Multiplayer'],\n",
       "      dtype='object')"
      ]
     },
     "execution_count": 64,
     "metadata": {},
     "output_type": "execute_result"
    }
   ],
   "source": []
  },
  {
   "cell_type": "markdown",
   "metadata": {},
   "source": [
    "+ def **developer( *`desarrollador` : str* )**:\n",
    "    `Cantidad` de items y `porcentaje` de contenido Free por año según empresa desarrolladora. \n",
    "Ejemplo de salida:\n",
    "    | Activision ||\n",
    "    |----------|----------|\n",
    "    | Año  | Contenido Free  |\n",
    "    | 2023   | 27% |\n",
    "    | 2022    | 25%   |\n",
    "    | xxxx    | xx%   |"
   ]
  },
  {
   "cell_type": "code",
   "execution_count": null,
   "metadata": {},
   "outputs": [],
   "source": []
  },
  {
   "cell_type": "markdown",
   "metadata": {},
   "source": [
    "+ def **sentiment_analysis( *`año` : int* )**:\n",
    "    Según el año de lanzamiento, se devuelve una lista con la cantidad de registros de reseñas de usuarios que se encuentren categorizados con un análisis de sentimiento. \n",
    "\n",
    "    &nbsp;&nbsp;&nbsp;&nbsp;&nbsp;&nbsp;&nbsp;&nbsp;&nbsp;&nbsp;&nbsp;&nbsp;&nbsp;&nbsp;&nbsp;&nbsp;&nbsp;&nbsp;&nbsp;&nbsp;Ejemplo de retorno: *{Negative = 182, Neutral = 120, Positive = 278}*"
   ]
  },
  {
   "cell_type": "code",
   "execution_count": null,
   "metadata": {},
   "outputs": [],
   "source": []
  }
 ],
 "metadata": {
  "kernelspec": {
   "display_name": "Python 3",
   "language": "python",
   "name": "python3"
  },
  "language_info": {
   "codemirror_mode": {
    "name": "ipython",
    "version": 3
   },
   "file_extension": ".py",
   "mimetype": "text/x-python",
   "name": "python",
   "nbconvert_exporter": "python",
   "pygments_lexer": "ipython3",
   "version": "3.10.8"
  },
  "orig_nbformat": 4
 },
 "nbformat": 4,
 "nbformat_minor": 2
}
