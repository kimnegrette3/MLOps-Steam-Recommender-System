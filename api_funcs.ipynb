{
 "cells": [
  {
   "cell_type": "markdown",
   "metadata": {},
   "source": [
    "**`Desarrollo API`**:   Propones disponibilizar los datos de la empresa usando el framework ***FastAPI***. Las consultas que propones son las siguientes:\n",
    "\n",
    "<sub> Debes crear las siguientes funciones para los endpoints que se consumirán en la API, recuerden que deben tener un decorador por cada una (@app.get(‘/’)).<sub/>"
   ]
  },
  {
   "cell_type": "markdown",
   "metadata": {},
   "source": [
    "+ def **userdata( *`User_id` : str* )**:\n",
    "    Debe devolver `cantidad` de dinero gastado por el usuario, el `porcentaje` de recomendación en base a reviews.recommend y `cantidad de items`."
   ]
  },
  {
   "cell_type": "code",
   "execution_count": null,
   "metadata": {},
   "outputs": [],
   "source": []
  },
  {
   "cell_type": "markdown",
   "metadata": {},
   "source": [
    "+ def **countreviews( *`YYYY-MM-DD` y `YYYY-MM-DD` : str* )**:\n",
    "    `Cantidad de usuarios` que realizaron reviews entre las fechas dadas y, el `porcentaje` de recomendación de los mismos en base a reviews.recommend."
   ]
  },
  {
   "cell_type": "code",
   "execution_count": null,
   "metadata": {},
   "outputs": [],
   "source": []
  },
  {
   "cell_type": "markdown",
   "metadata": {},
   "source": [
    "+ def **genre( *`género` : str* )**:\n",
    "    Devuelve el `puesto` en el que se encuentra un género sobre el ranking de los mismos analizado bajo la columna PlayTimeForever. "
   ]
  },
  {
   "cell_type": "code",
   "execution_count": 88,
   "metadata": {},
   "outputs": [
    {
     "data": {
      "text/html": [
       "<div>\n",
       "<style scoped>\n",
       "    .dataframe tbody tr th:only-of-type {\n",
       "        vertical-align: middle;\n",
       "    }\n",
       "\n",
       "    .dataframe tbody tr th {\n",
       "        vertical-align: top;\n",
       "    }\n",
       "\n",
       "    .dataframe thead th {\n",
       "        text-align: right;\n",
       "    }\n",
       "</style>\n",
       "<table border=\"1\" class=\"dataframe\">\n",
       "  <thead>\n",
       "    <tr style=\"text-align: right;\">\n",
       "      <th></th>\n",
       "      <th>item_id</th>\n",
       "      <th>playtime_forever</th>\n",
       "    </tr>\n",
       "  </thead>\n",
       "  <tbody>\n",
       "    <tr>\n",
       "      <th>0</th>\n",
       "      <td>10</td>\n",
       "      <td>6</td>\n",
       "    </tr>\n",
       "    <tr>\n",
       "      <th>1</th>\n",
       "      <td>20</td>\n",
       "      <td>0</td>\n",
       "    </tr>\n",
       "    <tr>\n",
       "      <th>2</th>\n",
       "      <td>30</td>\n",
       "      <td>7</td>\n",
       "    </tr>\n",
       "  </tbody>\n",
       "</table>\n",
       "</div>"
      ],
      "text/plain": [
       "   item_id  playtime_forever\n",
       "0       10                 6\n",
       "1       20                 0\n",
       "2       30                 7"
      ]
     },
     "execution_count": 88,
     "metadata": {},
     "output_type": "execute_result"
    }
   ],
   "source": [
    "import pandas as pd\n",
    "\n",
    "columnas = ['item_id','playtime_forever']\n",
    "df = pd.read_csv(r'./datasets/aus_users_items.csv',usecols=columnas)\n",
    "df.head(3)"
   ]
  },
  {
   "cell_type": "code",
   "execution_count": 89,
   "metadata": {},
   "outputs": [
    {
     "data": {
      "text/html": [
       "<div>\n",
       "<style scoped>\n",
       "    .dataframe tbody tr th:only-of-type {\n",
       "        vertical-align: middle;\n",
       "    }\n",
       "\n",
       "    .dataframe tbody tr th {\n",
       "        vertical-align: top;\n",
       "    }\n",
       "\n",
       "    .dataframe thead th {\n",
       "        text-align: right;\n",
       "    }\n",
       "</style>\n",
       "<table border=\"1\" class=\"dataframe\">\n",
       "  <thead>\n",
       "    <tr style=\"text-align: right;\">\n",
       "      <th></th>\n",
       "      <th>item_id</th>\n",
       "      <th>playtime_forever</th>\n",
       "    </tr>\n",
       "  </thead>\n",
       "  <tbody>\n",
       "    <tr>\n",
       "      <th>0</th>\n",
       "      <td>10</td>\n",
       "      <td>17386015</td>\n",
       "    </tr>\n",
       "    <tr>\n",
       "      <th>1</th>\n",
       "      <td>20</td>\n",
       "      <td>961702</td>\n",
       "    </tr>\n",
       "    <tr>\n",
       "      <th>2</th>\n",
       "      <td>30</td>\n",
       "      <td>758991</td>\n",
       "    </tr>\n",
       "    <tr>\n",
       "      <th>3</th>\n",
       "      <td>40</td>\n",
       "      <td>154486</td>\n",
       "    </tr>\n",
       "    <tr>\n",
       "      <th>4</th>\n",
       "      <td>50</td>\n",
       "      <td>734562</td>\n",
       "    </tr>\n",
       "  </tbody>\n",
       "</table>\n",
       "</div>"
      ],
      "text/plain": [
       "   item_id  playtime_forever\n",
       "0       10          17386015\n",
       "1       20            961702\n",
       "2       30            758991\n",
       "3       40            154486\n",
       "4       50            734562"
      ]
     },
     "execution_count": 89,
     "metadata": {},
     "output_type": "execute_result"
    }
   ],
   "source": [
    "df_playhours = pd.DataFrame(df.groupby('item_id')['playtime_forever'].agg('sum')).reset_index()\n",
    "df_playhours.head()"
   ]
  },
  {
   "cell_type": "code",
   "execution_count": 90,
   "metadata": {},
   "outputs": [],
   "source": [
    "columnas = ['id','genres']\n",
    "df = pd.read_csv(r'./datasets/steam_games.csv',usecols=columnas)\n",
    "df.rename(columns={'id':'item_id'},inplace=True)\n",
    "df_merge = df_playhours.merge(df,on='item_id',how='left')\n",
    "df_merge = df_merge[df_merge['playtime_forever'] != 0]\n",
    "df_merge = df_merge.dropna(subset=['genres'])\n",
    "# df_merge['genres'] = df_merge['genres'].astype(list)\n",
    "# df_merge.sample(20)\n",
    "import ast\n",
    "\n",
    "def tolist(lst):\n",
    "    text= \"\"\n",
    "    if isinstance(lst, str) :\n",
    "        lst = lst.replace(\"0's\",'0s')\n",
    "        lst =  ast.literal_eval(lst)\n",
    "        # try:\n",
    "        #     lst =  ast.literal_eval(lst)\n",
    "        # except (SyntaxError, ValueError):\n",
    "        #     return lst.lower()\n",
    "\n",
    "    return list(lst)\n",
    "\n",
    "df_merge['genres'] = df_merge['genres'].apply(lambda x : tolist(x))"
   ]
  },
  {
   "cell_type": "code",
   "execution_count": 91,
   "metadata": {},
   "outputs": [],
   "source": [
    "def create_genre_columns(dataframe):\n",
    "    genres_list = set()\n",
    "    for genres in dataframe['genres']:\n",
    "        if isinstance(genres, list):\n",
    "            genres_list.update(genres)\n",
    "    \n",
    "    for genre in genres_list:\n",
    "        dataframe[genre] = dataframe['genres'].apply(lambda x: 1 if genre in x else 0)\n",
    "    \n",
    "    return dataframe\n",
    "\n",
    "df_with_genre_columns = create_genre_columns(df_merge)\n",
    "# df_with_genre_columns.drop('genres',axis=1).to_csv('holatest.csv')"
   ]
  },
  {
   "cell_type": "code",
   "execution_count": 92,
   "metadata": {},
   "outputs": [],
   "source": [
    "genre_columns_mapping = {\n",
    "    'Racing': 'Racing',\n",
    "    'Casual': 'Casual',\n",
    "    'Sports': 'Sports',\n",
    "    'Indie': 'Indie',\n",
    "    'Web Publishing': 'Web Publishing',\n",
    "    'Free to Play': 'Free to Play',\n",
    "    'Software Training': 'Software Training',\n",
    "    'RPG': 'RPG',\n",
    "    'Early Access': 'Early Access',\n",
    "    'Animation &amp; Modeling': 'Animation &amp; Modeling',\n",
    "    'Strategy': 'Strategy',\n",
    "    'Audio Production': 'Audio Production',\n",
    "    'Action': 'Action',\n",
    "    'Photo Editing': 'Photo Editing',\n",
    "    'Massively Multiplayer': 'Massively Multiplayer',\n",
    "    'Adventure': 'Adventure',\n",
    "    'Education': 'Education',\n",
    "    'Video Production': 'Video Production',\n",
    "    'Simulation': 'Simulation',\n",
    "    'Utilities': 'Utilities',\n",
    "    'Design &amp; Illustration': 'Design &amp; Illustration'\n",
    "}\n",
    "\n",
    "# Inicializar un diccionario para almacenar las sumas de horas por género\n",
    "genre_hours_sum = {}\n",
    "\n",
    "# Iterar a través del diccionario de mapeo de columnas y calcular las sumas de horas\n",
    "for col_bin, genre in genre_columns_mapping.items():\n",
    "    if col_bin in df_with_genre_columns.columns:\n",
    "        genre_hours_sum[genre] = df_with_genre_columns[df_with_genre_columns[col_bin] == 1]['playtime_forever'].sum()\n",
    "\n",
    "# Crear un DataFrame con las sumas de horas por género\n",
    "genre_summary_df = pd.DataFrame.from_dict(genre_hours_sum, orient='index', columns=['Total_Hours'])\n",
    "\n",
    "# Agregar una columna para el ranking de géneros más jugados\n",
    "genre_summary_df['Rank'] = genre_summary_df['Total_Hours'].rank(ascending=False).astype(int)\n",
    "\n",
    "# Ordenar el DataFrame por las horas totales en orden descendente\n",
    "genre_summary_df = genre_summary_df.sort_values(by='Total_Hours', ascending=False)\n",
    "\n",
    "# Agregar el nombre \"Genre\" a la primera columna del índice\n",
    "genre_summary_df = genre_summary_df.rename_axis('Genre')\n",
    "\n",
    "# Mostrar el DataFrame con el ranking y las sumas de horas por género\n",
    "genre_summary_df.to_csv(r'./dataquery/gener_rank.csv')\n"
   ]
  },
  {
   "cell_type": "code",
   "execution_count": 93,
   "metadata": {},
   "outputs": [],
   "source": [
    "df_genre = pd.read_csv(r'./dataquery/gener_rank.csv')\n",
    "df_genre['Genre'] = df_genre['Genre'].apply(lambda x: x.lower())\n",
    "df_genre.to_csv(r'./dataquery/gener_rank.csv',index=False)"
   ]
  },
  {
   "cell_type": "code",
   "execution_count": 94,
   "metadata": {},
   "outputs": [
    {
     "data": {
      "text/html": [
       "<div>\n",
       "<style scoped>\n",
       "    .dataframe tbody tr th:only-of-type {\n",
       "        vertical-align: middle;\n",
       "    }\n",
       "\n",
       "    .dataframe tbody tr th {\n",
       "        vertical-align: top;\n",
       "    }\n",
       "\n",
       "    .dataframe thead th {\n",
       "        text-align: right;\n",
       "    }\n",
       "</style>\n",
       "<table border=\"1\" class=\"dataframe\">\n",
       "  <thead>\n",
       "    <tr style=\"text-align: right;\">\n",
       "      <th></th>\n",
       "      <th>Genre</th>\n",
       "      <th>Total_Hours</th>\n",
       "      <th>Rank</th>\n",
       "    </tr>\n",
       "  </thead>\n",
       "  <tbody>\n",
       "    <tr>\n",
       "      <th>0</th>\n",
       "      <td>action</td>\n",
       "      <td>3113562606</td>\n",
       "      <td>1</td>\n",
       "    </tr>\n",
       "    <tr>\n",
       "      <th>1</th>\n",
       "      <td>indie</td>\n",
       "      <td>1494622404</td>\n",
       "      <td>2</td>\n",
       "    </tr>\n",
       "    <tr>\n",
       "      <th>2</th>\n",
       "      <td>rpg</td>\n",
       "      <td>1041022718</td>\n",
       "      <td>3</td>\n",
       "    </tr>\n",
       "  </tbody>\n",
       "</table>\n",
       "</div>"
      ],
      "text/plain": [
       "    Genre  Total_Hours  Rank\n",
       "0  action   3113562606     1\n",
       "1   indie   1494622404     2\n",
       "2     rpg   1041022718     3"
      ]
     },
     "execution_count": 94,
     "metadata": {},
     "output_type": "execute_result"
    }
   ],
   "source": [
    "df_genre.head(3)"
   ]
  },
  {
   "cell_type": "code",
   "execution_count": 104,
   "metadata": {},
   "outputs": [
    {
     "name": "stdout",
     "output_type": "stream",
     "text": [
      "\"[{\\\"Genre\\\":\\\"indie\\\",\\\"Total_Hours\\\":1494622404,\\\"Rank\\\":2}]\"\n"
     ]
    }
   ],
   "source": [
    "import json\n",
    "\n",
    "def get_genre_info(genre):\n",
    "    genre = genre.lower()\n",
    "    df_genre = pd.read_csv(r'./dataquery/gener_rank.csv')\n",
    "    \n",
    "    if df_genre['Genre'].str.contains(genre).any():\n",
    "        genre_info = df_genre[df_genre['Genre']==genre]\n",
    "    else:\n",
    "        return 'No se encontro el genero'\n",
    "    return json.dumps(genre_info.to_json(orient='records'), indent=4)\n",
    "\n",
    "# Prueba la función con un género\n",
    "genre_to_check = 'indie'\n",
    "genre_info_json = get_genre_info(genre_to_check)\n",
    "print(genre_info_json)"
   ]
  },
  {
   "cell_type": "markdown",
   "metadata": {},
   "source": [
    "+ def **userforgenre( *`género` : str* )**:\n",
    "    `Top 5` de usuarios con más horas de juego en el género dado, con su URL (del user) y user_id."
   ]
  },
  {
   "cell_type": "code",
   "execution_count": null,
   "metadata": {},
   "outputs": [],
   "source": []
  },
  {
   "cell_type": "markdown",
   "metadata": {},
   "source": [
    "+ def **developer( *`desarrollador` : str* )**:\n",
    "    `Cantidad` de items y `porcentaje` de contenido Free por año según empresa desarrolladora. \n",
    "Ejemplo de salida:\n",
    "    | Activision ||\n",
    "    |----------|----------|\n",
    "    | Año  | Contenido Free  |\n",
    "    | 2023   | 27% |\n",
    "    | 2022    | 25%   |\n",
    "    | xxxx    | xx%   |"
   ]
  },
  {
   "cell_type": "code",
   "execution_count": null,
   "metadata": {},
   "outputs": [],
   "source": []
  },
  {
   "cell_type": "markdown",
   "metadata": {},
   "source": [
    "+ def **sentiment_analysis( *`año` : int* )**:\n",
    "    Según el año de lanzamiento, se devuelve una lista con la cantidad de registros de reseñas de usuarios que se encuentren categorizados con un análisis de sentimiento. \n",
    "\n",
    "    &nbsp;&nbsp;&nbsp;&nbsp;&nbsp;&nbsp;&nbsp;&nbsp;&nbsp;&nbsp;&nbsp;&nbsp;&nbsp;&nbsp;&nbsp;&nbsp;&nbsp;&nbsp;&nbsp;&nbsp;Ejemplo de retorno: *{Negative = 182, Neutral = 120, Positive = 278}*"
   ]
  },
  {
   "cell_type": "code",
   "execution_count": null,
   "metadata": {},
   "outputs": [],
   "source": []
  }
 ],
 "metadata": {
  "kernelspec": {
   "display_name": "Python 3",
   "language": "python",
   "name": "python3"
  },
  "language_info": {
   "codemirror_mode": {
    "name": "ipython",
    "version": 3
   },
   "file_extension": ".py",
   "mimetype": "text/x-python",
   "name": "python",
   "nbconvert_exporter": "python",
   "pygments_lexer": "ipython3",
   "version": "3.10.8"
  },
  "orig_nbformat": 4
 },
 "nbformat": 4,
 "nbformat_minor": 2
}
