{
 "cells": [
  {
   "cell_type": "markdown",
   "metadata": {},
   "source": [
    "**`Desarrollo API`**:   Propones disponibilizar los datos de la empresa usando el framework ***FastAPI***. Las consultas que propones son las siguientes:\n",
    "\n",
    "<sub> Debes crear las siguientes funciones para los endpoints que se consumirán en la API, recuerden que deben tener un decorador por cada una (@app.get(‘/’)).<sub/>"
   ]
  },
  {
   "cell_type": "markdown",
   "metadata": {},
   "source": [
    "+ def **userdata( *`User_id` : str* )**:\n",
    "    Debe devolver `cantidad` de dinero gastado por el usuario, el `porcentaje` de recomendación en base a reviews.recommend y `cantidad de items`."
   ]
  },
  {
   "cell_type": "code",
   "execution_count": null,
   "metadata": {},
   "outputs": [],
   "source": []
  },
  {
   "cell_type": "markdown",
   "metadata": {},
   "source": [
    "+ def **countreviews( *`YYYY-MM-DD` y `YYYY-MM-DD` : str* )**:\n",
    "    `Cantidad de usuarios` que realizaron reviews entre las fechas dadas y, el `porcentaje` de recomendación de los mismos en base a reviews.recommend."
   ]
  },
  {
   "cell_type": "code",
   "execution_count": null,
   "metadata": {},
   "outputs": [],
   "source": []
  },
  {
   "cell_type": "markdown",
   "metadata": {},
   "source": [
    "+ def **genre( *`género` : str* )**:\n",
    "    Devuelve el `puesto` en el que se encuentra un género sobre el ranking de los mismos analizado bajo la columna PlayTimeForever. "
   ]
  },
  {
   "cell_type": "code",
   "execution_count": 88,
   "metadata": {},
   "outputs": [
    {
     "data": {
      "text/html": [
       "<div>\n",
       "<style scoped>\n",
       "    .dataframe tbody tr th:only-of-type {\n",
       "        vertical-align: middle;\n",
       "    }\n",
       "\n",
       "    .dataframe tbody tr th {\n",
       "        vertical-align: top;\n",
       "    }\n",
       "\n",
       "    .dataframe thead th {\n",
       "        text-align: right;\n",
       "    }\n",
       "</style>\n",
       "<table border=\"1\" class=\"dataframe\">\n",
       "  <thead>\n",
       "    <tr style=\"text-align: right;\">\n",
       "      <th></th>\n",
       "      <th>item_id</th>\n",
       "      <th>playtime_forever</th>\n",
       "    </tr>\n",
       "  </thead>\n",
       "  <tbody>\n",
       "    <tr>\n",
       "      <th>0</th>\n",
       "      <td>10</td>\n",
       "      <td>6</td>\n",
       "    </tr>\n",
       "    <tr>\n",
       "      <th>1</th>\n",
       "      <td>20</td>\n",
       "      <td>0</td>\n",
       "    </tr>\n",
       "    <tr>\n",
       "      <th>2</th>\n",
       "      <td>30</td>\n",
       "      <td>7</td>\n",
       "    </tr>\n",
       "  </tbody>\n",
       "</table>\n",
       "</div>"
      ],
      "text/plain": [
       "   item_id  playtime_forever\n",
       "0       10                 6\n",
       "1       20                 0\n",
       "2       30                 7"
      ]
     },
     "execution_count": 88,
     "metadata": {},
     "output_type": "execute_result"
    }
   ],
   "source": [
    "import pandas as pd\n",
    "\n",
    "columnas = ['item_id','playtime_forever']\n",
    "df = pd.read_csv(r'./datasets/aus_users_items.csv',usecols=columnas)\n",
    "df.head(3)"
   ]
  },
  {
   "cell_type": "code",
   "execution_count": 89,
   "metadata": {},
   "outputs": [
    {
     "data": {
      "text/html": [
       "<div>\n",
       "<style scoped>\n",
       "    .dataframe tbody tr th:only-of-type {\n",
       "        vertical-align: middle;\n",
       "    }\n",
       "\n",
       "    .dataframe tbody tr th {\n",
       "        vertical-align: top;\n",
       "    }\n",
       "\n",
       "    .dataframe thead th {\n",
       "        text-align: right;\n",
       "    }\n",
       "</style>\n",
       "<table border=\"1\" class=\"dataframe\">\n",
       "  <thead>\n",
       "    <tr style=\"text-align: right;\">\n",
       "      <th></th>\n",
       "      <th>item_id</th>\n",
       "      <th>playtime_forever</th>\n",
       "    </tr>\n",
       "  </thead>\n",
       "  <tbody>\n",
       "    <tr>\n",
       "      <th>0</th>\n",
       "      <td>10</td>\n",
       "      <td>17386015</td>\n",
       "    </tr>\n",
       "    <tr>\n",
       "      <th>1</th>\n",
       "      <td>20</td>\n",
       "      <td>961702</td>\n",
       "    </tr>\n",
       "    <tr>\n",
       "      <th>2</th>\n",
       "      <td>30</td>\n",
       "      <td>758991</td>\n",
       "    </tr>\n",
       "    <tr>\n",
       "      <th>3</th>\n",
       "      <td>40</td>\n",
       "      <td>154486</td>\n",
       "    </tr>\n",
       "    <tr>\n",
       "      <th>4</th>\n",
       "      <td>50</td>\n",
       "      <td>734562</td>\n",
       "    </tr>\n",
       "  </tbody>\n",
       "</table>\n",
       "</div>"
      ],
      "text/plain": [
       "   item_id  playtime_forever\n",
       "0       10          17386015\n",
       "1       20            961702\n",
       "2       30            758991\n",
       "3       40            154486\n",
       "4       50            734562"
      ]
     },
     "execution_count": 89,
     "metadata": {},
     "output_type": "execute_result"
    }
   ],
   "source": [
    "df_playhours = pd.DataFrame(df.groupby('item_id')['playtime_forever'].agg('sum')).reset_index()\n",
    "df_playhours.head()"
   ]
  },
  {
   "cell_type": "code",
   "execution_count": 90,
   "metadata": {},
   "outputs": [],
   "source": [
    "columnas = ['id','genres']\n",
    "df = pd.read_csv(r'./datasets/steam_games.csv',usecols=columnas)\n",
    "df.rename(columns={'id':'item_id'},inplace=True)\n",
    "df_merge = df_playhours.merge(df,on='item_id',how='left')\n",
    "df_merge = df_merge[df_merge['playtime_forever'] != 0]\n",
    "df_merge = df_merge.dropna(subset=['genres'])\n",
    "# df_merge['genres'] = df_merge['genres'].astype(list)\n",
    "# df_merge.sample(20)\n",
    "import ast\n",
    "\n",
    "def tolist(lst):\n",
    "    text= \"\"\n",
    "    if isinstance(lst, str) :\n",
    "        lst = lst.replace(\"0's\",'0s')\n",
    "        lst =  ast.literal_eval(lst)\n",
    "        # try:\n",
    "        #     lst =  ast.literal_eval(lst)\n",
    "        # except (SyntaxError, ValueError):\n",
    "        #     return lst.lower()\n",
    "\n",
    "    return list(lst)\n",
    "\n",
    "df_merge['genres'] = df_merge['genres'].apply(lambda x : tolist(x))"
   ]
  },
  {
   "cell_type": "code",
   "execution_count": 91,
   "metadata": {},
   "outputs": [],
   "source": [
    "def create_genre_columns(dataframe):\n",
    "    genres_list = set()\n",
    "    for genres in dataframe['genres']:\n",
    "        if isinstance(genres, list):\n",
    "            genres_list.update(genres)\n",
    "    \n",
    "    for genre in genres_list:\n",
    "        dataframe[genre] = dataframe['genres'].apply(lambda x: 1 if genre in x else 0)\n",
    "    \n",
    "    return dataframe\n",
    "\n",
    "df_with_genre_columns = create_genre_columns(df_merge)\n",
    "# df_with_genre_columns.drop('genres',axis=1).to_csv('holatest.csv')"
   ]
  },
  {
   "cell_type": "code",
   "execution_count": 92,
   "metadata": {},
   "outputs": [],
   "source": [
    "genre_columns_mapping = {\n",
    "    'Racing': 'Racing',\n",
    "    'Casual': 'Casual',\n",
    "    'Sports': 'Sports',\n",
    "    'Indie': 'Indie',\n",
    "    'Web Publishing': 'Web Publishing',\n",
    "    'Free to Play': 'Free to Play',\n",
    "    'Software Training': 'Software Training',\n",
    "    'RPG': 'RPG',\n",
    "    'Early Access': 'Early Access',\n",
    "    'Animation &amp; Modeling': 'Animation &amp; Modeling',\n",
    "    'Strategy': 'Strategy',\n",
    "    'Audio Production': 'Audio Production',\n",
    "    'Action': 'Action',\n",
    "    'Photo Editing': 'Photo Editing',\n",
    "    'Massively Multiplayer': 'Massively Multiplayer',\n",
    "    'Adventure': 'Adventure',\n",
    "    'Education': 'Education',\n",
    "    'Video Production': 'Video Production',\n",
    "    'Simulation': 'Simulation',\n",
    "    'Utilities': 'Utilities',\n",
    "    'Design &amp; Illustration': 'Design &amp; Illustration'\n",
    "}\n",
    "\n",
    "# Inicializar un diccionario para almacenar las sumas de horas por género\n",
    "genre_hours_sum = {}\n",
    "\n",
    "# Iterar a través del diccionario de mapeo de columnas y calcular las sumas de horas\n",
    "for col_bin, genre in genre_columns_mapping.items():\n",
    "    if col_bin in df_with_genre_columns.columns:\n",
    "        genre_hours_sum[genre] = df_with_genre_columns[df_with_genre_columns[col_bin] == 1]['playtime_forever'].sum()\n",
    "\n",
    "# Crear un DataFrame con las sumas de horas por género\n",
    "genre_summary_df = pd.DataFrame.from_dict(genre_hours_sum, orient='index', columns=['Total_Hours'])\n",
    "\n",
    "# Agregar una columna para el ranking de géneros más jugados\n",
    "genre_summary_df['Rank'] = genre_summary_df['Total_Hours'].rank(ascending=False).astype(int)\n",
    "\n",
    "# Ordenar el DataFrame por las horas totales en orden descendente\n",
    "genre_summary_df = genre_summary_df.sort_values(by='Total_Hours', ascending=False)\n",
    "\n",
    "# Agregar el nombre \"Genre\" a la primera columna del índice\n",
    "genre_summary_df = genre_summary_df.rename_axis('Genre')\n",
    "\n",
    "# Mostrar el DataFrame con el ranking y las sumas de horas por género\n",
    "genre_summary_df.to_csv(r'./dataquery/gener_rank.csv')\n"
   ]
  },
  {
   "cell_type": "code",
   "execution_count": 93,
   "metadata": {},
   "outputs": [],
   "source": [
    "df_genre = pd.read_csv(r'./dataquery/gener_rank.csv')\n",
    "df_genre['Genre'] = df_genre['Genre'].apply(lambda x: x.lower())\n",
    "df_genre.to_csv(r'./dataquery/gener_rank.csv',index=False)"
   ]
  },
  {
   "cell_type": "code",
   "execution_count": 94,
   "metadata": {},
   "outputs": [
    {
     "data": {
      "text/html": [
       "<div>\n",
       "<style scoped>\n",
       "    .dataframe tbody tr th:only-of-type {\n",
       "        vertical-align: middle;\n",
       "    }\n",
       "\n",
       "    .dataframe tbody tr th {\n",
       "        vertical-align: top;\n",
       "    }\n",
       "\n",
       "    .dataframe thead th {\n",
       "        text-align: right;\n",
       "    }\n",
       "</style>\n",
       "<table border=\"1\" class=\"dataframe\">\n",
       "  <thead>\n",
       "    <tr style=\"text-align: right;\">\n",
       "      <th></th>\n",
       "      <th>Genre</th>\n",
       "      <th>Total_Hours</th>\n",
       "      <th>Rank</th>\n",
       "    </tr>\n",
       "  </thead>\n",
       "  <tbody>\n",
       "    <tr>\n",
       "      <th>0</th>\n",
       "      <td>action</td>\n",
       "      <td>3113562606</td>\n",
       "      <td>1</td>\n",
       "    </tr>\n",
       "    <tr>\n",
       "      <th>1</th>\n",
       "      <td>indie</td>\n",
       "      <td>1494622404</td>\n",
       "      <td>2</td>\n",
       "    </tr>\n",
       "    <tr>\n",
       "      <th>2</th>\n",
       "      <td>rpg</td>\n",
       "      <td>1041022718</td>\n",
       "      <td>3</td>\n",
       "    </tr>\n",
       "  </tbody>\n",
       "</table>\n",
       "</div>"
      ],
      "text/plain": [
       "    Genre  Total_Hours  Rank\n",
       "0  action   3113562606     1\n",
       "1   indie   1494622404     2\n",
       "2     rpg   1041022718     3"
      ]
     },
     "execution_count": 94,
     "metadata": {},
     "output_type": "execute_result"
    }
   ],
   "source": [
    "df_genre.head(3)"
   ]
  },
  {
   "cell_type": "code",
   "execution_count": 104,
   "metadata": {},
   "outputs": [
    {
     "name": "stdout",
     "output_type": "stream",
     "text": [
      "\"[{\\\"Genre\\\":\\\"indie\\\",\\\"Total_Hours\\\":1494622404,\\\"Rank\\\":2}]\"\n"
     ]
    }
   ],
   "source": [
    "import json\n",
    "\n",
    "def get_genre_info(genre):\n",
    "    genre = genre.lower()\n",
    "    df_genre = pd.read_csv(r'./dataquery/gener_rank.csv')\n",
    "    \n",
    "    if df_genre['Genre'].str.contains(genre).any():\n",
    "        genre_info = df_genre[df_genre['Genre']==genre]\n",
    "    else:\n",
    "        return 'No se encontro el genero'\n",
    "    return json.dumps(genre_info.to_json(orient='records'), indent=4)\n",
    "\n",
    "# Prueba la función con un género\n",
    "genre_to_check = 'indie'\n",
    "genre_info_json = get_genre_info(genre_to_check)\n",
    "print(genre_info_json)"
   ]
  },
  {
   "cell_type": "markdown",
   "metadata": {},
   "source": [
    "# def userforgenre(gener : str)\n",
    "```python\n",
    "def userforgenre( genero : str ):\n",
    "    # Top 5 de usuarios con más horas de juego en el género dado, con su URL (del user) y user_id.\n",
    "```"
   ]
  },
  {
   "cell_type": "code",
   "execution_count": 24,
   "metadata": {},
   "outputs": [],
   "source": [
    "# Crear una tabla que me de las horas jugadas por genero de cada usuario\n",
    "import pandas as pd\n",
    "import ast\n",
    "\n",
    "columnas = ['id','genres'] # Columnas a importar\n",
    "df = pd.read_csv(r'./datasets/steam_games.csv',usecols=columnas)\n",
    "df.rename(columns={'id':'item_id'},inplace=True)\n",
    "df = df.dropna(subset=['genres']) # removemos los items que no tienen un genero definido"
   ]
  },
  {
   "cell_type": "code",
   "execution_count": 25,
   "metadata": {},
   "outputs": [],
   "source": [
    "# Funcion cambia de string a formato list los objetos\n",
    "def tolist(lst):\n",
    "    text= \"\"\n",
    "    if isinstance(lst, str) :\n",
    "        lst = lst.replace(\"0's\",'0s')\n",
    "        lst =  ast.literal_eval(lst)\n",
    "\n",
    "    return list(lst)\n",
    "# Mapeamos la columna con la funcion creada\n",
    "df['genres'] = df['genres'].apply(lambda x : tolist(x))\n"
   ]
  },
  {
   "cell_type": "code",
   "execution_count": 26,
   "metadata": {},
   "outputs": [],
   "source": [
    "# creamos las columnas binarias de los géneros\n",
    "def create_genre_columns(dataframe):\n",
    "    genres_list = set()\n",
    "\n",
    "    # se crea el set con los valores DISTINCT de los géneros\n",
    "    for genres in dataframe['genres']:\n",
    "        if isinstance(genres, list):\n",
    "            genres_list.update(genres)\n",
    "    \n",
    "    # crea una columna por cada genre en genre_list \n",
    "    # le aplica luego se recore la columna genre imputando 1 cuando existe ese genero \n",
    "    # en la fila analizada\n",
    "    for genre in genres_list:\n",
    "        dataframe[genre] = dataframe['genres'].apply(lambda x: 1 if genre in x else 0)\n",
    "    \n",
    "    return dataframe\n",
    "\n",
    "df_binario = create_genre_columns(df)\n",
    "df_binario.drop('genres',axis=1,inplace=True)"
   ]
  },
  {
   "cell_type": "code",
   "execution_count": 55,
   "metadata": {},
   "outputs": [],
   "source": [
    "#importamos el csv de los items por usuario\n",
    "columnas = ['user_id','item_id','playtime_forever'] # Columnas a importar\n",
    "df_users = pd.read_csv(r'./datasets/aus_users_items.csv',usecols=columnas)\n",
    "\n",
    "# Merge \n",
    "df_users = df_users.merge(df_binario,on='item_id',how='left')\n",
    "df_users.fillna(0,inplace=True)\n",
    "\n",
    "# "
   ]
  },
  {
   "cell_type": "code",
   "execution_count": 57,
   "metadata": {},
   "outputs": [
    {
     "ename": "KeyError",
     "evalue": "'playtime_forever'",
     "output_type": "error",
     "traceback": [
      "\u001b[1;31m---------------------------------------------------------------------------\u001b[0m",
      "\u001b[1;31mKeyError\u001b[0m                                  Traceback (most recent call last)",
      "File \u001b[1;32mc:\\Users\\octav\\AppData\\Local\\Programs\\Python\\Python310\\lib\\site-packages\\pandas\\core\\indexes\\base.py:3652\u001b[0m, in \u001b[0;36mIndex.get_loc\u001b[1;34m(self, key)\u001b[0m\n\u001b[0;32m   3651\u001b[0m \u001b[39mtry\u001b[39;00m:\n\u001b[1;32m-> 3652\u001b[0m     \u001b[39mreturn\u001b[39;00m \u001b[39mself\u001b[39;49m\u001b[39m.\u001b[39;49m_engine\u001b[39m.\u001b[39;49mget_loc(casted_key)\n\u001b[0;32m   3653\u001b[0m \u001b[39mexcept\u001b[39;00m \u001b[39mKeyError\u001b[39;00m \u001b[39mas\u001b[39;00m err:\n",
      "File \u001b[1;32mc:\\Users\\octav\\AppData\\Local\\Programs\\Python\\Python310\\lib\\site-packages\\pandas\\_libs\\index.pyx:147\u001b[0m, in \u001b[0;36mpandas._libs.index.IndexEngine.get_loc\u001b[1;34m()\u001b[0m\n",
      "File \u001b[1;32mc:\\Users\\octav\\AppData\\Local\\Programs\\Python\\Python310\\lib\\site-packages\\pandas\\_libs\\index.pyx:176\u001b[0m, in \u001b[0;36mpandas._libs.index.IndexEngine.get_loc\u001b[1;34m()\u001b[0m\n",
      "File \u001b[1;32mpandas\\_libs\\hashtable_class_helper.pxi:7080\u001b[0m, in \u001b[0;36mpandas._libs.hashtable.PyObjectHashTable.get_item\u001b[1;34m()\u001b[0m\n",
      "File \u001b[1;32mpandas\\_libs\\hashtable_class_helper.pxi:7088\u001b[0m, in \u001b[0;36mpandas._libs.hashtable.PyObjectHashTable.get_item\u001b[1;34m()\u001b[0m\n",
      "\u001b[1;31mKeyError\u001b[0m: 'playtime_forever'",
      "\nThe above exception was the direct cause of the following exception:\n",
      "\u001b[1;31mKeyError\u001b[0m                                  Traceback (most recent call last)",
      "\u001b[1;32md:\\Proyectos\\Colab\\Steam_Recommendations\\api_funcs.ipynb Cell 20\u001b[0m in \u001b[0;36m7\n\u001b[0;32m      <a href='vscode-notebook-cell:/d%3A/Proyectos/Colab/Steam_Recommendations/api_funcs.ipynb#X34sZmlsZQ%3D%3D?line=0'>1</a>\u001b[0m col_sum \u001b[39m=\u001b[39m [ \u001b[39m'\u001b[39m\u001b[39mIndie\u001b[39m\u001b[39m'\u001b[39m,\u001b[39m'\u001b[39m\u001b[39mRacing\u001b[39m\u001b[39m'\u001b[39m,\u001b[39m'\u001b[39m\u001b[39mSports\u001b[39m\u001b[39m'\u001b[39m,\u001b[39m'\u001b[39m\u001b[39mAudio Production\u001b[39m\u001b[39m'\u001b[39m,\u001b[39m'\u001b[39m\u001b[39mAnimation &amp; Modeling\u001b[39m\u001b[39m'\u001b[39m,\n\u001b[0;32m      <a href='vscode-notebook-cell:/d%3A/Proyectos/Colab/Steam_Recommendations/api_funcs.ipynb#X34sZmlsZQ%3D%3D?line=1'>2</a>\u001b[0m             \u001b[39m'\u001b[39m\u001b[39mVideo Production\u001b[39m\u001b[39m'\u001b[39m,\u001b[39m'\u001b[39m\u001b[39mSoftware Training\u001b[39m\u001b[39m'\u001b[39m,\u001b[39m'\u001b[39m\u001b[39mCasual\u001b[39m\u001b[39m'\u001b[39m,\u001b[39m'\u001b[39m\u001b[39mSimulation\u001b[39m\u001b[39m'\u001b[39m,\u001b[39m'\u001b[39m\u001b[39mUtilities\u001b[39m\u001b[39m'\u001b[39m,\n\u001b[0;32m      <a href='vscode-notebook-cell:/d%3A/Proyectos/Colab/Steam_Recommendations/api_funcs.ipynb#X34sZmlsZQ%3D%3D?line=2'>3</a>\u001b[0m             \u001b[39m'\u001b[39m\u001b[39mPhoto Editing\u001b[39m\u001b[39m'\u001b[39m,\u001b[39m'\u001b[39m\u001b[39mEarly Access\u001b[39m\u001b[39m'\u001b[39m,\u001b[39m'\u001b[39m\u001b[39mAccounting\u001b[39m\u001b[39m'\u001b[39m,\u001b[39m'\u001b[39m\u001b[39mEducation\u001b[39m\u001b[39m'\u001b[39m,\n\u001b[0;32m      <a href='vscode-notebook-cell:/d%3A/Proyectos/Colab/Steam_Recommendations/api_funcs.ipynb#X34sZmlsZQ%3D%3D?line=3'>4</a>\u001b[0m             \u001b[39m'\u001b[39m\u001b[39mMassively Multiplayer\u001b[39m\u001b[39m'\u001b[39m,\u001b[39m'\u001b[39m\u001b[39mAction\u001b[39m\u001b[39m'\u001b[39m,\u001b[39m'\u001b[39m\u001b[39mWeb Publishing\u001b[39m\u001b[39m'\u001b[39m,\n\u001b[0;32m      <a href='vscode-notebook-cell:/d%3A/Proyectos/Colab/Steam_Recommendations/api_funcs.ipynb#X34sZmlsZQ%3D%3D?line=4'>5</a>\u001b[0m             \u001b[39m'\u001b[39m\u001b[39mAdventure\u001b[39m\u001b[39m'\u001b[39m,\u001b[39m'\u001b[39m\u001b[39mStrategy\u001b[39m\u001b[39m'\u001b[39m,\u001b[39m'\u001b[39m\u001b[39mRPG\u001b[39m\u001b[39m'\u001b[39m,\u001b[39m'\u001b[39m\u001b[39mDesign &amp; Illustration\u001b[39m\u001b[39m'\u001b[39m,\u001b[39m'\u001b[39m\u001b[39mFree to Play\u001b[39m\u001b[39m'\u001b[39m]\n\u001b[0;32m      <a href='vscode-notebook-cell:/d%3A/Proyectos/Colab/Steam_Recommendations/api_funcs.ipynb#X34sZmlsZQ%3D%3D?line=5'>6</a>\u001b[0m \u001b[39mfor\u001b[39;00m col_name \u001b[39min\u001b[39;00m col_sum:\n\u001b[1;32m----> <a href='vscode-notebook-cell:/d%3A/Proyectos/Colab/Steam_Recommendations/api_funcs.ipynb#X34sZmlsZQ%3D%3D?line=6'>7</a>\u001b[0m     df_users[col_name] \u001b[39m=\u001b[39m df_users[\u001b[39m'\u001b[39;49m\u001b[39mplaytime_forever\u001b[39;49m\u001b[39m'\u001b[39;49m] \u001b[39m*\u001b[39m df_users[col_name]\n\u001b[0;32m      <a href='vscode-notebook-cell:/d%3A/Proyectos/Colab/Steam_Recommendations/api_funcs.ipynb#X34sZmlsZQ%3D%3D?line=8'>9</a>\u001b[0m df_users \u001b[39m=\u001b[39m df_users\u001b[39m.\u001b[39mgroupby(\u001b[39m'\u001b[39m\u001b[39muser_id\u001b[39m\u001b[39m'\u001b[39m)[col_sum]\u001b[39m.\u001b[39magg(\u001b[39m'\u001b[39m\u001b[39msum\u001b[39m\u001b[39m'\u001b[39m) \n\u001b[0;32m     <a href='vscode-notebook-cell:/d%3A/Proyectos/Colab/Steam_Recommendations/api_funcs.ipynb#X34sZmlsZQ%3D%3D?line=9'>10</a>\u001b[0m df_users\u001b[39m.\u001b[39msample(\u001b[39m10\u001b[39m)\n",
      "File \u001b[1;32mc:\\Users\\octav\\AppData\\Local\\Programs\\Python\\Python310\\lib\\site-packages\\pandas\\core\\frame.py:3761\u001b[0m, in \u001b[0;36mDataFrame.__getitem__\u001b[1;34m(self, key)\u001b[0m\n\u001b[0;32m   3759\u001b[0m \u001b[39mif\u001b[39;00m \u001b[39mself\u001b[39m\u001b[39m.\u001b[39mcolumns\u001b[39m.\u001b[39mnlevels \u001b[39m>\u001b[39m \u001b[39m1\u001b[39m:\n\u001b[0;32m   3760\u001b[0m     \u001b[39mreturn\u001b[39;00m \u001b[39mself\u001b[39m\u001b[39m.\u001b[39m_getitem_multilevel(key)\n\u001b[1;32m-> 3761\u001b[0m indexer \u001b[39m=\u001b[39m \u001b[39mself\u001b[39;49m\u001b[39m.\u001b[39;49mcolumns\u001b[39m.\u001b[39;49mget_loc(key)\n\u001b[0;32m   3762\u001b[0m \u001b[39mif\u001b[39;00m is_integer(indexer):\n\u001b[0;32m   3763\u001b[0m     indexer \u001b[39m=\u001b[39m [indexer]\n",
      "File \u001b[1;32mc:\\Users\\octav\\AppData\\Local\\Programs\\Python\\Python310\\lib\\site-packages\\pandas\\core\\indexes\\base.py:3654\u001b[0m, in \u001b[0;36mIndex.get_loc\u001b[1;34m(self, key)\u001b[0m\n\u001b[0;32m   3652\u001b[0m     \u001b[39mreturn\u001b[39;00m \u001b[39mself\u001b[39m\u001b[39m.\u001b[39m_engine\u001b[39m.\u001b[39mget_loc(casted_key)\n\u001b[0;32m   3653\u001b[0m \u001b[39mexcept\u001b[39;00m \u001b[39mKeyError\u001b[39;00m \u001b[39mas\u001b[39;00m err:\n\u001b[1;32m-> 3654\u001b[0m     \u001b[39mraise\u001b[39;00m \u001b[39mKeyError\u001b[39;00m(key) \u001b[39mfrom\u001b[39;00m \u001b[39merr\u001b[39;00m\n\u001b[0;32m   3655\u001b[0m \u001b[39mexcept\u001b[39;00m \u001b[39mTypeError\u001b[39;00m:\n\u001b[0;32m   3656\u001b[0m     \u001b[39m# If we have a listlike key, _check_indexing_error will raise\u001b[39;00m\n\u001b[0;32m   3657\u001b[0m     \u001b[39m#  InvalidIndexError. Otherwise we fall through and re-raise\u001b[39;00m\n\u001b[0;32m   3658\u001b[0m     \u001b[39m#  the TypeError.\u001b[39;00m\n\u001b[0;32m   3659\u001b[0m     \u001b[39mself\u001b[39m\u001b[39m.\u001b[39m_check_indexing_error(key)\n",
      "\u001b[1;31mKeyError\u001b[0m: 'playtime_forever'"
     ]
    }
   ],
   "source": [
    "col_sum = [ 'Indie','Racing','Sports','Audio Production','Animation &amp; Modeling',\n",
    "            'Video Production','Software Training','Casual','Simulation','Utilities',\n",
    "            'Photo Editing','Early Access','Accounting','Education',\n",
    "            'Massively Multiplayer','Action','Web Publishing',\n",
    "            'Adventure','Strategy','RPG','Design &amp; Illustration','Free to Play']\n",
    "for col_name in col_sum:\n",
    "    df_users[col_name] = df_users['playtime_forever'] * df_users[col_name]\n",
    "\n",
    "df_users = df_users.groupby('user_id')[col_sum].agg('sum') \n",
    "df_users.sample(10)"
   ]
  },
  {
   "cell_type": "code",
   "execution_count": null,
   "metadata": {},
   "outputs": [],
   "source": []
  },
  {
   "cell_type": "code",
   "execution_count": 50,
   "metadata": {},
   "outputs": [
    {
     "data": {
      "text/plain": [
       "Index(['user_id', 'item_id', 'playtime_forever', 'Indie', 'Racing', 'Sports',\n",
       "       'Audio Production', 'Animation &amp; Modeling', 'Video Production',\n",
       "       'Software Training', 'Casual', 'Simulation', 'Utilities',\n",
       "       'Photo Editing', 'Early Access', 'Accounting', 'Education',\n",
       "       'Massively Multiplayer', 'Action', 'Web Publishing', 'Adventure',\n",
       "       'Strategy', 'RPG', 'Design &amp; Illustration', 'Free to Play'],\n",
       "      dtype='object')"
      ]
     },
     "execution_count": 50,
     "metadata": {},
     "output_type": "execute_result"
    }
   ],
   "source": [
    "df_users.columns"
   ]
  },
  {
   "cell_type": "markdown",
   "metadata": {},
   "source": [
    "+ def **developer( *`desarrollador` : str* )**:\n",
    "    `Cantidad` de items y `porcentaje` de contenido Free por año según empresa desarrolladora. \n",
    "Ejemplo de salida:\n",
    "    | Activision ||\n",
    "    |----------|----------|\n",
    "    | Año  | Contenido Free  |\n",
    "    | 2023   | 27% |\n",
    "    | 2022    | 25%   |\n",
    "    | xxxx    | xx%   |"
   ]
  },
  {
   "cell_type": "code",
   "execution_count": null,
   "metadata": {},
   "outputs": [],
   "source": []
  },
  {
   "cell_type": "markdown",
   "metadata": {},
   "source": [
    "+ def **sentiment_analysis( *`año` : int* )**:\n",
    "    Según el año de lanzamiento, se devuelve una lista con la cantidad de registros de reseñas de usuarios que se encuentren categorizados con un análisis de sentimiento. \n",
    "\n",
    "    &nbsp;&nbsp;&nbsp;&nbsp;&nbsp;&nbsp;&nbsp;&nbsp;&nbsp;&nbsp;&nbsp;&nbsp;&nbsp;&nbsp;&nbsp;&nbsp;&nbsp;&nbsp;&nbsp;&nbsp;Ejemplo de retorno: *{Negative = 182, Neutral = 120, Positive = 278}*"
   ]
  },
  {
   "cell_type": "code",
   "execution_count": null,
   "metadata": {},
   "outputs": [],
   "source": []
  }
 ],
 "metadata": {
  "kernelspec": {
   "display_name": "Python 3",
   "language": "python",
   "name": "python3"
  },
  "language_info": {
   "codemirror_mode": {
    "name": "ipython",
    "version": 3
   },
   "file_extension": ".py",
   "mimetype": "text/x-python",
   "name": "python",
   "nbconvert_exporter": "python",
   "pygments_lexer": "ipython3",
   "version": "3.10.8"
  },
  "orig_nbformat": 4
 },
 "nbformat": 4,
 "nbformat_minor": 2
}
