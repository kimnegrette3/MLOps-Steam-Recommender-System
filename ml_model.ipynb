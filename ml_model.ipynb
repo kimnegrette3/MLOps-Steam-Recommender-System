{
 "cells": [
  {
   "cell_type": "markdown",
   "metadata": {},
   "source": [
    "K-neighbors es lo recomendado para medir similaridad en datasets grandes por su eficiencia. Además, si se quiere extender la funcionalidad hacia user-item recommendation, es ideal también. En este modelo se puede definir distintas medidas de similaridad como distancia euclidiana o cosine similarity. \n",
    "Lo más importante es escoger correctamente los features a ingresar en la matriz, deben ser relevantes. -- Falta revisar si el método tfidf tiene un tope de palabras y si se puede asignar stopwords en español. \n"
   ]
  },
  {
   "cell_type": "code",
   "execution_count": null,
   "metadata": {},
   "outputs": [],
   "source": [
    "from sklearn.feature_extraction.text import TfidfVectorizer\n",
    "from sklearn.neighbors import NearestNeighbors\n",
    "\n",
    "# Combine relevant columns into a single 'profile'\n",
    "games['profile'] = games['genre'] + \" \" + games['tags'] + \" \" + games['specs'] + \" \" + games['developer'] + \" \" + games['publisher']\n",
    "games['profile'] = games['profile'].fillna('')\n",
    "\n",
    "# Create a TF-IDF Vectorizer to transform the 'profile' into numerical data\n",
    "tfidf = TfidfVectorizer(stop_words='english')\n",
    "tfidf_matrix = tfidf.fit_transform(games['profile'])\n",
    "\n",
    "# Use k-NN to find similar games\n",
    "knn = NearestNeighbors(n_neighbors=6, metric='cosine', algorithm='brute')  # Using 6 neighbors to include the game itself\n",
    "knn.fit(tfidf_matrix)\n",
    "\n",
    "# Create a function to get recommendations\n",
    "def recommend(game_title):\n",
    "    idx = games.index[games['title'] == game_title].tolist()[0]\n",
    "    distances, indices = knn.kneighbors(tfidf_matrix[idx])\n",
    "    \n",
    "    # Exclude the first (index 0) since it'll be the game itself\n",
    "    game_indices = indices[0][1:]\n",
    "    return games['title'].iloc[game_indices]\n",
    "\n",
    "# Test\n",
    "print(recommend(\"Some Game Title\"))\n"
   ]
  }
 ],
 "metadata": {
  "language_info": {
   "name": "python"
  },
  "orig_nbformat": 4
 },
 "nbformat": 4,
 "nbformat_minor": 2
}
