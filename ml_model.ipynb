{
 "cells": [
  {
   "cell_type": "markdown",
   "metadata": {},
   "source": [
    "K-neighbors es lo recomendado para medir similaridad en datasets grandes por su eficiencia. Además, si se quiere extender la funcionalidad hacia user-item recommendation, es ideal también. En este modelo se puede definir distintas medidas de similaridad como distancia euclidiana o cosine similarity. \n",
    "Lo más importante es escoger correctamente los features a ingresar en la matriz, deben ser relevantes. -- Falta revisar si el método tfidf tiene un tope de palabras y si se puede asignar stopwords en español. \n"
   ]
  },
  {
   "cell_type": "markdown",
   "metadata": {},
   "source": [
    "-- Columnas a usar: genres, developer, tags, specs"
   ]
  },
  {
   "cell_type": "code",
   "execution_count": 71,
   "metadata": {},
   "outputs": [],
   "source": [
    "import pandas as pd\n",
    "\n",
    "games = pd.read_csv('datasets/steam_games.csv')"
   ]
  },
  {
   "cell_type": "code",
   "execution_count": 72,
   "metadata": {},
   "outputs": [],
   "source": [
    "games['release_date'] = pd.to_datetime(games['release_date'], errors='coerce')\n",
    "games['release_year'] = games['release_date'].dt.year\n",
    "games['release_year'] = games['release_year'].fillna(0).astype(int)\n",
    "games['release_year'] = games['release_year'].astype('str').replace('0', '')"
   ]
  },
  {
   "cell_type": "code",
   "execution_count": 73,
   "metadata": {},
   "outputs": [
    {
     "data": {
      "text/plain": [
       "(30085, 14)"
      ]
     },
     "execution_count": 73,
     "metadata": {},
     "output_type": "execute_result"
    }
   ],
   "source": [
    "games.fillna('', inplace=True)\n",
    "\n",
    "games.drop(games[games['title'] == \"\"].index, inplace=True)\n",
    "games.shape"
   ]
  },
  {
   "cell_type": "code",
   "execution_count": 74,
   "metadata": {},
   "outputs": [],
   "source": [
    "# Aplica la función de unión con guión a la columna 'developer'\n",
    "games['developer'] = games['developer'].str.replace(r'\\s+', '-', regex=True)\n",
    "games['developer'] = games['developer'].str.replace(r'---', \"-\")"
   ]
  },
  {
   "cell_type": "code",
   "execution_count": 75,
   "metadata": {},
   "outputs": [],
   "source": [
    "import re\n",
    "import ast\n",
    "\n",
    "\n",
    "def tolist(lst):\n",
    "    text= \"\"\n",
    "    if isinstance(lst, str) and len(lst) > 0 and '[' in lst:\n",
    "        lst = lst.lower()\n",
    "        lst = lst.replace(\"0's\",'0s').replace(';','').replace('&','').replace(\"'em\",\"em\")\n",
    "        try:\n",
    "            lst =  ast.literal_eval(lst)\n",
    "        except (SyntaxError, ValueError):\n",
    "            return lst.lower()\n",
    "        \n",
    "    if isinstance(lst,list):\n",
    "        for item in lst:\n",
    "            while \"  \" in item:\n",
    "                item = item.replace(\"  \",\" \")\n",
    "            item = item.replace(\" \", \"-\")\n",
    "            text = text + \" \" + item \n",
    "            text = text.replace('\"','')\n",
    "        return text.strip().lower()\n",
    "\n",
    "    return lst"
   ]
  },
  {
   "cell_type": "code",
   "execution_count": 76,
   "metadata": {},
   "outputs": [],
   "source": [
    "games['specs'] = games['specs'].apply(lambda x : tolist(x))\n",
    "games['genres'] = games['genres'].apply(lambda x : tolist(x))\n",
    "games['tags'] = games['tags'].apply(lambda x : tolist(x))"
   ]
  },
  {
   "cell_type": "code",
   "execution_count": 77,
   "metadata": {},
   "outputs": [],
   "source": [
    "# Combine relevant columns into a single 'profile'\n",
    "games['profile'] = games['genres'] + \" \" + games['tags'] + \" \" + games['specs'] + \" \" + games['developer'] + \" \" + games['release_year']\n",
    "\n",
    "\n",
    "games['profile_simple'] = games['genres']+ \" \" + + games['developer'] + \" \" + games['release_year']\n",
    "# games['profile_simple'] = games['profile_simple'].fillna(\" \")"
   ]
  },
  {
   "cell_type": "code",
   "execution_count": 78,
   "metadata": {},
   "outputs": [
    {
     "data": {
      "text/plain": [
       "'free-to-play indie rpg strategy Secret-Level-SRL 2018'"
      ]
     },
     "execution_count": 78,
     "metadata": {},
     "output_type": "execute_result"
    }
   ],
   "source": [
    "games['profile_simple'].loc[1]"
   ]
  },
  {
   "cell_type": "code",
   "execution_count": 79,
   "metadata": {},
   "outputs": [
    {
     "data": {
      "text/plain": [
       "'action adventure simulation Trickjump-Games-Ltd 2018'"
      ]
     },
     "execution_count": 79,
     "metadata": {},
     "output_type": "execute_result"
    }
   ],
   "source": [
    "games['profile_simple'].loc[5]"
   ]
  },
  {
   "cell_type": "code",
   "execution_count": 80,
   "metadata": {},
   "outputs": [],
   "source": [
    "games[['id','title','profile','profile_simple']].to_csv(r'./datasets/game_profile.csv',index=False)"
   ]
  }
 ],
 "metadata": {
  "kernelspec": {
   "display_name": "env_python_3.10",
   "language": "python",
   "name": "python3"
  },
  "language_info": {
   "codemirror_mode": {
    "name": "ipython",
    "version": 3
   },
   "file_extension": ".py",
   "mimetype": "text/x-python",
   "name": "python",
   "nbconvert_exporter": "python",
   "pygments_lexer": "ipython3",
   "version": "3.10.8"
  },
  "orig_nbformat": 4
 },
 "nbformat": 4,
 "nbformat_minor": 2
}
