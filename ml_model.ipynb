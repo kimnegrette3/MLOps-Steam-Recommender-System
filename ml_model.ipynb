{
 "cells": [
  {
   "cell_type": "markdown",
   "metadata": {},
   "source": [
    "K-neighbors es lo recomendado para medir similaridad en datasets grandes por su eficiencia. Además, si se quiere extender la funcionalidad hacia user-item recommendation, es ideal también. En este modelo se puede definir distintas medidas de similaridad como distancia euclidiana o cosine similarity. \n",
    "Lo más importante es escoger correctamente los features a ingresar en la matriz, deben ser relevantes. -- Falta revisar si el método tfidf tiene un tope de palabras y si se puede asignar stopwords en español. \n"
   ]
  },
  {
   "cell_type": "markdown",
   "metadata": {},
   "source": [
    "-- Columnas a usar: genres, developer, tags, specs"
   ]
  },
  {
   "cell_type": "code",
   "execution_count": 2,
   "metadata": {},
   "outputs": [],
   "source": [
    "import pandas as pd"
   ]
  },
  {
   "cell_type": "code",
   "execution_count": 3,
   "metadata": {},
   "outputs": [],
   "source": [
    "games = pd.read_csv('datasets/steam_games.csv')"
   ]
  },
  {
   "cell_type": "code",
   "execution_count": 4,
   "metadata": {},
   "outputs": [
    {
     "name": "stdout",
     "output_type": "stream",
     "text": [
      "<class 'pandas.core.frame.DataFrame'>\n",
      "RangeIndex: 32135 entries, 0 to 32134\n",
      "Data columns (total 13 columns):\n",
      " #   Column        Non-Null Count  Dtype  \n",
      "---  ------        --------------  -----  \n",
      " 0   publisher     24064 non-null  object \n",
      " 1   genres        28852 non-null  object \n",
      " 2   app_name      32133 non-null  object \n",
      " 3   title         30085 non-null  object \n",
      " 4   url           32135 non-null  object \n",
      " 5   release_date  30068 non-null  object \n",
      " 6   tags          31972 non-null  object \n",
      " 7   reviews_url   32133 non-null  object \n",
      " 8   specs         31465 non-null  object \n",
      " 9   price         30758 non-null  object \n",
      " 10  early_access  32135 non-null  float64\n",
      " 11  id            32133 non-null  float64\n",
      " 12  developer     28836 non-null  object \n",
      "dtypes: float64(2), object(11)\n",
      "memory usage: 3.2+ MB\n"
     ]
    }
   ],
   "source": [
    "games.info()"
   ]
  },
  {
   "cell_type": "code",
   "execution_count": 19,
   "metadata": {},
   "outputs": [],
   "source": [
    "games['release_date'] = pd.to_datetime(games['release_date'], errors='coerce')\n",
    "games['release_year'] = games['release_date'].dt.year"
   ]
  },
  {
   "cell_type": "code",
   "execution_count": 21,
   "metadata": {},
   "outputs": [
    {
     "data": {
      "text/plain": [
       "0        2018\n",
       "1        2018\n",
       "2        2017\n",
       "3        2017\n",
       "4           0\n",
       "         ... \n",
       "32130    2018\n",
       "32131    2018\n",
       "32132    2018\n",
       "32133    2017\n",
       "32134       0\n",
       "Name: release_year, Length: 32135, dtype: int64"
      ]
     },
     "execution_count": 21,
     "metadata": {},
     "output_type": "execute_result"
    }
   ],
   "source": [
    "games['release_year'] = games['release_year'].fillna(0).astype(int)\n",
    "games['release_year']"
   ]
  },
  {
   "cell_type": "code",
   "execution_count": 22,
   "metadata": {},
   "outputs": [
    {
     "data": {
      "text/plain": [
       "0        2018\n",
       "1        2018\n",
       "2        2017\n",
       "3        2017\n",
       "4            \n",
       "         ... \n",
       "32130    2018\n",
       "32131    2018\n",
       "32132    2018\n",
       "32133    2017\n",
       "32134        \n",
       "Name: release_year, Length: 32135, dtype: object"
      ]
     },
     "execution_count": 22,
     "metadata": {},
     "output_type": "execute_result"
    }
   ],
   "source": [
    "games['release_year'] = games['release_year'].astype('str').replace('0', '')\n",
    "games['release_year']"
   ]
  },
  {
   "cell_type": "code",
   "execution_count": 24,
   "metadata": {},
   "outputs": [
    {
     "data": {
      "text/plain": [
       "publisher       8071\n",
       "genres          3283\n",
       "app_name           2\n",
       "title           2050\n",
       "url                0\n",
       "release_date    2352\n",
       "tags             163\n",
       "reviews_url        2\n",
       "specs            670\n",
       "price           1377\n",
       "early_access       0\n",
       "id                 2\n",
       "developer       3299\n",
       "release_year       0\n",
       "dtype: int64"
      ]
     },
     "execution_count": 24,
     "metadata": {},
     "output_type": "execute_result"
    }
   ],
   "source": [
    "games.isnull().sum()"
   ]
  },
  {
   "cell_type": "code",
   "execution_count": 27,
   "metadata": {},
   "outputs": [],
   "source": [
    "games.fillna('', inplace=True)"
   ]
  },
  {
   "cell_type": "code",
   "execution_count": 29,
   "metadata": {},
   "outputs": [
    {
     "data": {
      "text/plain": [
       "publisher          0\n",
       "genres             0\n",
       "app_name           0\n",
       "title              0\n",
       "url                0\n",
       "release_date    2352\n",
       "tags               0\n",
       "reviews_url        0\n",
       "specs              0\n",
       "price              0\n",
       "early_access       0\n",
       "id                 0\n",
       "developer          0\n",
       "release_year       0\n",
       "dtype: int64"
      ]
     },
     "execution_count": 29,
     "metadata": {},
     "output_type": "execute_result"
    }
   ],
   "source": [
    "games.isnull().sum()"
   ]
  },
  {
   "cell_type": "code",
   "execution_count": 36,
   "metadata": {},
   "outputs": [
    {
     "name": "stdout",
     "output_type": "stream",
     "text": [
      "1868                                            Insurgency\n",
      "32012                               Counter-Strike: Source\n",
      "32117                       Counter-Strike: Condition Zero\n",
      "12867    ELEAGUE 2018 Boston CS:GO Major Championship M...\n",
      "29344                                Call of Duty®: Ghosts\n",
      "Name: title, dtype: object\n"
     ]
    }
   ],
   "source": [
    "from sklearn.feature_extraction.text import TfidfVectorizer\n",
    "from sklearn.neighbors import NearestNeighbors\n",
    "\n",
    "# Combine relevant columns into a single 'profile'\n",
    "games['profile'] = games['genres'] + \" \" + games['tags'] + \" \" + games['specs'] + \" \" + games['developer'] + \" \" + games['release_year']\n",
    "games['profile'] = games['profile'].fillna('')\n",
    "\n",
    "# Create a TF-IDF Vectorizer to transform the 'profile' into numerical data\n",
    "tfidf = TfidfVectorizer(stop_words='english')\n",
    "tfidf_matrix = tfidf.fit_transform(games['profile'])\n",
    "\n",
    "# Use k-NN to find similar games\n",
    "knn = NearestNeighbors(n_neighbors=6, metric='cosine', algorithm='brute')  # Using 6 neighbors to include the game itself\n",
    "knn.fit(tfidf_matrix)\n",
    "\n",
    "# Create a function to get recommendations\n",
    "def recommend(game_title):\n",
    "    idx = games.index[games['title'] == game_title].tolist()[0]\n",
    "    distances, indices = knn.kneighbors(tfidf_matrix[idx])\n",
    "    \n",
    "    # Exclude the first (index 0) since it'll be the game itself\n",
    "    game_indices = indices[0][1:]\n",
    "    return games['title'].iloc[game_indices]\n",
    "\n",
    "# Test\n",
    "print(recommend(\"Counter-Strike: Global Offensive\"))\n"
   ]
  },
  {
   "cell_type": "code",
   "execution_count": null,
   "metadata": {},
   "outputs": [],
   "source": [
    "# Convertir todas las listas en string para asegurarnos que esté tomando todas\n",
    "# Pasar todo a .lower()\n",
    "# Usar el id del videojuego en vez del titulo\n",
    "# Probar con diferente combinación de columnas "
   ]
  },
  {
   "cell_type": "code",
   "execution_count": 37,
   "metadata": {},
   "outputs": [
    {
     "data": {
      "text/plain": [
       "0        ['Action', 'Casual', 'Indie', 'Simulation', 'S...\n",
       "1        ['Free to Play', 'Indie', 'RPG', 'Strategy'] [...\n",
       "2        ['Casual', 'Free to Play', 'Indie', 'Simulatio...\n",
       "3        ['Action', 'Adventure', 'Casual'] ['Action', '...\n",
       "4         ['Action', 'Indie', 'Casual', 'Sports'] ['Sin...\n",
       "                               ...                        \n",
       "32130    ['Casual', 'Indie', 'Simulation', 'Strategy'] ...\n",
       "32131    ['Casual', 'Indie', 'Strategy'] ['Strategy', '...\n",
       "32132    ['Indie', 'Racing', 'Simulation'] ['Indie', 'S...\n",
       "32133    ['Casual', 'Indie'] ['Indie', 'Casual', 'Puzzl...\n",
       "32134     ['Early Access', 'Adventure', 'Indie', 'Actio...\n",
       "Name: profile, Length: 32135, dtype: object"
      ]
     },
     "execution_count": 37,
     "metadata": {},
     "output_type": "execute_result"
    }
   ],
   "source": [
    "games['profile']"
   ]
  }
 ],
 "metadata": {
  "kernelspec": {
   "display_name": "env_python_3.10",
   "language": "python",
   "name": "python3"
  },
  "language_info": {
   "codemirror_mode": {
    "name": "ipython",
    "version": 3
   },
   "file_extension": ".py",
   "mimetype": "text/x-python",
   "name": "python",
   "nbconvert_exporter": "python",
   "pygments_lexer": "ipython3",
   "version": "3.10.11"
  },
  "orig_nbformat": 4
 },
 "nbformat": 4,
 "nbformat_minor": 2
}
