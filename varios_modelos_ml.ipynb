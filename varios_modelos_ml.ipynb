{
 "cells": [
  {
   "cell_type": "code",
   "execution_count": 2,
   "metadata": {},
   "outputs": [],
   "source": [
    "import pandas as pd\n",
    "from sklearn.feature_extraction.text import TfidfVectorizer\n",
    "from sklearn.neighbors import NearestNeighbors\n",
    "import joblib"
   ]
  },
  {
   "cell_type": "code",
   "execution_count": 3,
   "metadata": {},
   "outputs": [],
   "source": [
    "#carga del df\n",
    "df = pd.read_csv(r'./datasets/game_profile.csv')"
   ]
  },
  {
   "cell_type": "code",
   "execution_count": 4,
   "metadata": {},
   "outputs": [],
   "source": [
    "df[['id', 'title']].to_csv(r'./dataquery/game_profile.csv',index=False)"
   ]
  },
  {
   "cell_type": "code",
   "execution_count": 5,
   "metadata": {},
   "outputs": [],
   "source": [
    "#Primer modelo con el profile mas extenso\n",
    "import gc\n",
    "gc.collect()\n",
    "\n",
    "# Create a TF-IDF Vectorizer to transform the 'profile' into numerical data\n",
    "tfidf = TfidfVectorizer(stop_words='english',max_features=5000)\n",
    "tfidf_matrix = tfidf.fit_transform(df['profile'])\n",
    "\n",
    "joblib.dump(tfidf_matrix, r'./dataquery/tfidf_matrix.pkl')\n",
    "\n",
    "\n",
    "\n",
    "# Use k-NN to find similar games\n",
    "knn = NearestNeighbors(n_neighbors=6, metric='cosine', algorithm='brute')  # Using 6 neighbors to include the game itself\n",
    "knn.fit(tfidf_matrix)\n",
    "joblib.dump(knn, r'./dataquery/modelo_knn.pkl')\n",
    "\n",
    "# Create a function to get recommendations\n",
    "def recommend(game_id):\n",
    "    knn_load = joblib.load(r'./dataquery/modelo_knn.pkl')\n",
    "    idx = df.index[df['id'] == game_id].tolist()[0]\n",
    "    name = df['title'].loc[idx]\n",
    "    print(f'Porque te gusto \"{name}\" te recomendamos:')\n",
    "    values , indices = knn.kneighbors(tfidf_matrix[idx])\n",
    "    \n",
    "    # Exclude the first (index 0) since it'll be the game itself\n",
    "    game_indices = indices[0][1:]\n",
    "    return df['title'].iloc[game_indices]"
   ]
  },
  {
   "cell_type": "code",
   "execution_count": 6,
   "metadata": {},
   "outputs": [
    {
     "data": {
      "text/plain": [
       "<30085x5000 sparse matrix of type '<class 'numpy.float64'>'\n",
       "\twith 508615 stored elements in Compressed Sparse Row format>"
      ]
     },
     "execution_count": 6,
     "metadata": {},
     "output_type": "execute_result"
    }
   ],
   "source": [
    "tfidf_matrix\n"
   ]
  },
  {
   "cell_type": "code",
   "execution_count": 4,
   "metadata": {},
   "outputs": [],
   "source": [
    "# segundo test como el profile solo con genero, developer y año\n",
    "import gc\n",
    "gc.collect()\n",
    "\n",
    "tfidf_s = TfidfVectorizer(stop_words='english',max_features=5000)\n",
    "tfidf_matrix_s = tfidf_s.fit_transform(df['profile_simple'])\n",
    "\n",
    "knn_s = NearestNeighbors(n_neighbors=6, metric='cosine', algorithm='brute')  # Using 6 neighbors to include the game itself\n",
    "knn_s.fit(tfidf_matrix_s)\n",
    "\n",
    "joblib.dump(knn, r'./dataquery/modelo_knn_simple.pkl')\n",
    "\n",
    "# Create a function to get recommendations\n",
    "def recommend_s(game_id):\n",
    "    knn_load = joblib.load(r'./dataquery/modelo_knn_simple.pkl')\n",
    "    idx = df.index[df['id'] == game_id].tolist()[0]\n",
    "    name = df['title'].loc[idx]\n",
    "    print(f'Porque te gusto \"{name}\" te recomendamos:')\n",
    "    values , indices = knn_s.kneighbors(tfidf_matrix_s[idx])\n",
    "    \n",
    "    # Exclude the first (index 0) since it'll be the game itself\n",
    "    game_indices = indices[0][0:]\n",
    "    return df['title'].iloc[game_indices]"
   ]
  },
  {
   "cell_type": "code",
   "execution_count": 7,
   "metadata": {},
   "outputs": [
    {
     "name": "stdout",
     "output_type": "stream",
     "text": [
      "Porque te gusto \"Dragon Age: Origins - Ultimate Edition\" te recomendamos:\n",
      "29453    Dragon Age™: Origins Awakening\n",
      "331                 Dragon Age: Origins\n",
      "29742                       Mass Effect\n",
      "29865     Jade Empire™: Special Edition\n",
      "29485                     Mass Effect 2\n",
      "Name: title, dtype: object\n"
     ]
    }
   ],
   "source": [
    "print(recommend(47810))\n"
   ]
  },
  {
   "cell_type": "code",
   "execution_count": 6,
   "metadata": {},
   "outputs": [
    {
     "name": "stdout",
     "output_type": "stream",
     "text": [
      "Porque te gusto \"Dragon Age: Origins - Ultimate Edition\" te recomendamos:\n",
      "29453            Dragon Age™: Origins Awakening\n",
      "29488      Mass Effect 2 Digital Deluxe Edition\n",
      "29329    Dragon Age: Origins - Ultimate Edition\n",
      "29485                             Mass Effect 2\n",
      "331                         Dragon Age: Origins\n",
      "29742                               Mass Effect\n",
      "Name: title, dtype: object\n"
     ]
    }
   ],
   "source": [
    "print(recommend_s(47810))"
   ]
  }
 ],
 "metadata": {
  "kernelspec": {
   "display_name": "Python 3",
   "language": "python",
   "name": "python3"
  },
  "language_info": {
   "codemirror_mode": {
    "name": "ipython",
    "version": 3
   },
   "file_extension": ".py",
   "mimetype": "text/x-python",
   "name": "python",
   "nbconvert_exporter": "python",
   "pygments_lexer": "ipython3",
   "version": "3.10.8"
  },
  "orig_nbformat": 4
 },
 "nbformat": 4,
 "nbformat_minor": 2
}
