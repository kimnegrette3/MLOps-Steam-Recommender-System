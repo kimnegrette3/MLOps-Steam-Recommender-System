{
 "cells": [
  {
   "cell_type": "markdown",
   "metadata": {},
   "source": [
    "### Consulta 1\n",
    "def userdata( User_id : str ): Debe devolver cantidad de dinero gastado por el usuario, el porcentaje de recomendación en base a reviews.recommend y cantidad de items.\n",
    "\n",
    "-- precio en tabla steam_games\n",
    "-- recommend (True or false) en tabla user_revs\n",
    "-- cantidad de items sería un count de unique (item_id) en tabla user_items"
   ]
  },
  {
   "cell_type": "code",
   "execution_count": 48,
   "metadata": {},
   "outputs": [],
   "source": [
    "import pandas as pd"
   ]
  },
  {
   "cell_type": "code",
   "execution_count": 49,
   "metadata": {},
   "outputs": [
    {
     "data": {
      "text/html": [
       "<div>\n",
       "<style scoped>\n",
       "    .dataframe tbody tr th:only-of-type {\n",
       "        vertical-align: middle;\n",
       "    }\n",
       "\n",
       "    .dataframe tbody tr th {\n",
       "        vertical-align: top;\n",
       "    }\n",
       "\n",
       "    .dataframe thead th {\n",
       "        text-align: right;\n",
       "    }\n",
       "</style>\n",
       "<table border=\"1\" class=\"dataframe\">\n",
       "  <thead>\n",
       "    <tr style=\"text-align: right;\">\n",
       "      <th></th>\n",
       "      <th>price</th>\n",
       "      <th>id</th>\n",
       "    </tr>\n",
       "  </thead>\n",
       "  <tbody>\n",
       "    <tr>\n",
       "      <th>0</th>\n",
       "      <td>4.99</td>\n",
       "      <td>761140.0</td>\n",
       "    </tr>\n",
       "    <tr>\n",
       "      <th>1</th>\n",
       "      <td>Free To Play</td>\n",
       "      <td>643980.0</td>\n",
       "    </tr>\n",
       "    <tr>\n",
       "      <th>2</th>\n",
       "      <td>Free to Play</td>\n",
       "      <td>670290.0</td>\n",
       "    </tr>\n",
       "    <tr>\n",
       "      <th>3</th>\n",
       "      <td>0.99</td>\n",
       "      <td>767400.0</td>\n",
       "    </tr>\n",
       "    <tr>\n",
       "      <th>4</th>\n",
       "      <td>2.99</td>\n",
       "      <td>773570.0</td>\n",
       "    </tr>\n",
       "  </tbody>\n",
       "</table>\n",
       "</div>"
      ],
      "text/plain": [
       "          price        id\n",
       "0          4.99  761140.0\n",
       "1  Free To Play  643980.0\n",
       "2  Free to Play  670290.0\n",
       "3          0.99  767400.0\n",
       "4          2.99  773570.0"
      ]
     },
     "execution_count": 49,
     "metadata": {},
     "output_type": "execute_result"
    }
   ],
   "source": [
    "columns = ['id', 'price']\n",
    "games_price = pd.read_csv(r'./datasets/steam_games.csv', usecols=columns)\n",
    "games_price.head()"
   ]
  },
  {
   "cell_type": "code",
   "execution_count": 50,
   "metadata": {},
   "outputs": [
    {
     "name": "stdout",
     "output_type": "stream",
     "text": [
      "<class 'pandas.core.frame.DataFrame'>\n",
      "RangeIndex: 32135 entries, 0 to 32134\n",
      "Data columns (total 2 columns):\n",
      " #   Column  Non-Null Count  Dtype  \n",
      "---  ------  --------------  -----  \n",
      " 0   price   30758 non-null  object \n",
      " 1   id      32133 non-null  float64\n",
      "dtypes: float64(1), object(1)\n",
      "memory usage: 502.2+ KB\n"
     ]
    }
   ],
   "source": [
    "games_price.info()"
   ]
  },
  {
   "cell_type": "code",
   "execution_count": 51,
   "metadata": {},
   "outputs": [],
   "source": [
    "unique_list = []\n",
    "for i in games_price['price']:\n",
    "    try:\n",
    "        float(i)\n",
    "    except:\n",
    "        unique_list.append(i)\n",
    "\n",
    "uniques = set(unique_list)\n",
    "uniques_not_free = ['Starting at $499.00', 'Starting at $449.00']"
   ]
  },
  {
   "cell_type": "code",
   "execution_count": 52,
   "metadata": {},
   "outputs": [
    {
     "name": "stdout",
     "output_type": "stream",
     "text": [
      "{'Play WARMACHINE: Tactics Demo', 'Free To Play', 'Free to Play', 'Install Now', 'Free HITMAN™ Holiday Pack', 'Install Theme', 'Starting at $499.00', 'Free to Try', 'Free Movie', 'Starting at $449.00', 'Play for Free!', 'Third-party', 'Play Now', 'Free Demo', 'Play the Demo', 'Free Mod', 'Free', 'Free to Use'}\n"
     ]
    }
   ],
   "source": [
    "print(uniques)"
   ]
  },
  {
   "cell_type": "code",
   "execution_count": 53,
   "metadata": {},
   "outputs": [
    {
     "data": {
      "text/html": [
       "<div>\n",
       "<style scoped>\n",
       "    .dataframe tbody tr th:only-of-type {\n",
       "        vertical-align: middle;\n",
       "    }\n",
       "\n",
       "    .dataframe tbody tr th {\n",
       "        vertical-align: top;\n",
       "    }\n",
       "\n",
       "    .dataframe thead th {\n",
       "        text-align: right;\n",
       "    }\n",
       "</style>\n",
       "<table border=\"1\" class=\"dataframe\">\n",
       "  <thead>\n",
       "    <tr style=\"text-align: right;\">\n",
       "      <th></th>\n",
       "      <th>price</th>\n",
       "      <th>id</th>\n",
       "      <th>price_fixed</th>\n",
       "    </tr>\n",
       "  </thead>\n",
       "  <tbody>\n",
       "    <tr>\n",
       "      <th>0</th>\n",
       "      <td>4.99</td>\n",
       "      <td>761140.0</td>\n",
       "      <td>4.99</td>\n",
       "    </tr>\n",
       "    <tr>\n",
       "      <th>1</th>\n",
       "      <td>Free To Play</td>\n",
       "      <td>643980.0</td>\n",
       "      <td>0</td>\n",
       "    </tr>\n",
       "    <tr>\n",
       "      <th>2</th>\n",
       "      <td>Free to Play</td>\n",
       "      <td>670290.0</td>\n",
       "      <td>0</td>\n",
       "    </tr>\n",
       "    <tr>\n",
       "      <th>3</th>\n",
       "      <td>0.99</td>\n",
       "      <td>767400.0</td>\n",
       "      <td>0.99</td>\n",
       "    </tr>\n",
       "    <tr>\n",
       "      <th>4</th>\n",
       "      <td>2.99</td>\n",
       "      <td>773570.0</td>\n",
       "      <td>2.99</td>\n",
       "    </tr>\n",
       "  </tbody>\n",
       "</table>\n",
       "</div>"
      ],
      "text/plain": [
       "          price        id price_fixed\n",
       "0          4.99  761140.0        4.99\n",
       "1  Free To Play  643980.0           0\n",
       "2  Free to Play  670290.0           0\n",
       "3          0.99  767400.0        0.99\n",
       "4          2.99  773570.0        2.99"
      ]
     },
     "execution_count": 53,
     "metadata": {},
     "output_type": "execute_result"
    }
   ],
   "source": [
    "games_price['price_fixed'] = games_price['price'].apply(lambda x: 0 if x in uniques \n",
    "                                                        else 499.0 if x=='Starting at $499.00'\n",
    "                                                        else 449.0 if x=='Starting at $449.00'\n",
    "                                                        else x)\n",
    "games_price.head()"
   ]
  },
  {
   "cell_type": "code",
   "execution_count": 54,
   "metadata": {},
   "outputs": [],
   "source": [
    "games_price['price_fixed'] = games_price['price_fixed'].astype(float)"
   ]
  },
  {
   "cell_type": "code",
   "execution_count": 55,
   "metadata": {},
   "outputs": [
    {
     "data": {
      "text/html": [
       "<div>\n",
       "<style scoped>\n",
       "    .dataframe tbody tr th:only-of-type {\n",
       "        vertical-align: middle;\n",
       "    }\n",
       "\n",
       "    .dataframe tbody tr th {\n",
       "        vertical-align: top;\n",
       "    }\n",
       "\n",
       "    .dataframe thead th {\n",
       "        text-align: right;\n",
       "    }\n",
       "</style>\n",
       "<table border=\"1\" class=\"dataframe\">\n",
       "  <thead>\n",
       "    <tr style=\"text-align: right;\">\n",
       "      <th></th>\n",
       "      <th>item_id</th>\n",
       "      <th>price_fixed</th>\n",
       "    </tr>\n",
       "  </thead>\n",
       "  <tbody>\n",
       "    <tr>\n",
       "      <th>0</th>\n",
       "      <td>761140.0</td>\n",
       "      <td>4.99</td>\n",
       "    </tr>\n",
       "    <tr>\n",
       "      <th>1</th>\n",
       "      <td>643980.0</td>\n",
       "      <td>0.00</td>\n",
       "    </tr>\n",
       "    <tr>\n",
       "      <th>2</th>\n",
       "      <td>670290.0</td>\n",
       "      <td>0.00</td>\n",
       "    </tr>\n",
       "    <tr>\n",
       "      <th>3</th>\n",
       "      <td>767400.0</td>\n",
       "      <td>0.99</td>\n",
       "    </tr>\n",
       "    <tr>\n",
       "      <th>4</th>\n",
       "      <td>773570.0</td>\n",
       "      <td>2.99</td>\n",
       "    </tr>\n",
       "  </tbody>\n",
       "</table>\n",
       "</div>"
      ],
      "text/plain": [
       "    item_id  price_fixed\n",
       "0  761140.0         4.99\n",
       "1  643980.0         0.00\n",
       "2  670290.0         0.00\n",
       "3  767400.0         0.99\n",
       "4  773570.0         2.99"
      ]
     },
     "execution_count": 55,
     "metadata": {},
     "output_type": "execute_result"
    }
   ],
   "source": [
    "games_price.rename(columns={'id':'item_id'},inplace=True)\n",
    "games_price.drop(columns='price', inplace=True)\n",
    "games_price.head()"
   ]
  },
  {
   "cell_type": "code",
   "execution_count": 56,
   "metadata": {},
   "outputs": [
    {
     "data": {
      "text/plain": [
       "item_id           2\n",
       "price_fixed    1377\n",
       "dtype: int64"
      ]
     },
     "execution_count": 56,
     "metadata": {},
     "output_type": "execute_result"
    }
   ],
   "source": [
    "games_price.isna().sum()"
   ]
  },
  {
   "cell_type": "code",
   "execution_count": 57,
   "metadata": {},
   "outputs": [],
   "source": [
    "games_price.fillna(0, inplace=True)"
   ]
  },
  {
   "cell_type": "code",
   "execution_count": 58,
   "metadata": {},
   "outputs": [
    {
     "data": {
      "text/plain": [
       "item_id        0\n",
       "price_fixed    0\n",
       "dtype: int64"
      ]
     },
     "execution_count": 58,
     "metadata": {},
     "output_type": "execute_result"
    }
   ],
   "source": [
    "games_price.isna().sum()"
   ]
  },
  {
   "cell_type": "code",
   "execution_count": 60,
   "metadata": {},
   "outputs": [
    {
     "data": {
      "text/html": [
       "<div>\n",
       "<style scoped>\n",
       "    .dataframe tbody tr th:only-of-type {\n",
       "        vertical-align: middle;\n",
       "    }\n",
       "\n",
       "    .dataframe tbody tr th {\n",
       "        vertical-align: top;\n",
       "    }\n",
       "\n",
       "    .dataframe thead th {\n",
       "        text-align: right;\n",
       "    }\n",
       "</style>\n",
       "<table border=\"1\" class=\"dataframe\">\n",
       "  <thead>\n",
       "    <tr style=\"text-align: right;\">\n",
       "      <th></th>\n",
       "      <th>user_id</th>\n",
       "      <th>items_count</th>\n",
       "      <th>item_id</th>\n",
       "    </tr>\n",
       "  </thead>\n",
       "  <tbody>\n",
       "    <tr>\n",
       "      <th>0</th>\n",
       "      <td>76561197970982479</td>\n",
       "      <td>277</td>\n",
       "      <td>10</td>\n",
       "    </tr>\n",
       "    <tr>\n",
       "      <th>1</th>\n",
       "      <td>76561197970982479</td>\n",
       "      <td>277</td>\n",
       "      <td>20</td>\n",
       "    </tr>\n",
       "    <tr>\n",
       "      <th>2</th>\n",
       "      <td>76561197970982479</td>\n",
       "      <td>277</td>\n",
       "      <td>30</td>\n",
       "    </tr>\n",
       "    <tr>\n",
       "      <th>3</th>\n",
       "      <td>76561197970982479</td>\n",
       "      <td>277</td>\n",
       "      <td>40</td>\n",
       "    </tr>\n",
       "    <tr>\n",
       "      <th>4</th>\n",
       "      <td>76561197970982479</td>\n",
       "      <td>277</td>\n",
       "      <td>50</td>\n",
       "    </tr>\n",
       "  </tbody>\n",
       "</table>\n",
       "</div>"
      ],
      "text/plain": [
       "             user_id  items_count  item_id\n",
       "0  76561197970982479          277       10\n",
       "1  76561197970982479          277       20\n",
       "2  76561197970982479          277       30\n",
       "3  76561197970982479          277       40\n",
       "4  76561197970982479          277       50"
      ]
     },
     "execution_count": 60,
     "metadata": {},
     "output_type": "execute_result"
    }
   ],
   "source": [
    "columns = ['user_id', 'item_id', 'items_count']\n",
    "user_items = pd.read_csv('datasets/aus_users_items.csv', usecols=columns)\n",
    "user_items.head()"
   ]
  },
  {
   "cell_type": "code",
   "execution_count": 61,
   "metadata": {},
   "outputs": [
    {
     "data": {
      "text/html": [
       "<div>\n",
       "<style scoped>\n",
       "    .dataframe tbody tr th:only-of-type {\n",
       "        vertical-align: middle;\n",
       "    }\n",
       "\n",
       "    .dataframe tbody tr th {\n",
       "        vertical-align: top;\n",
       "    }\n",
       "\n",
       "    .dataframe thead th {\n",
       "        text-align: right;\n",
       "    }\n",
       "</style>\n",
       "<table border=\"1\" class=\"dataframe\">\n",
       "  <thead>\n",
       "    <tr style=\"text-align: right;\">\n",
       "      <th></th>\n",
       "      <th>user_id</th>\n",
       "      <th>items_count</th>\n",
       "      <th>item_id</th>\n",
       "      <th>price_fixed</th>\n",
       "    </tr>\n",
       "  </thead>\n",
       "  <tbody>\n",
       "    <tr>\n",
       "      <th>2758822</th>\n",
       "      <td>76561198078212818</td>\n",
       "      <td>372</td>\n",
       "      <td>346010</td>\n",
       "      <td>7.99</td>\n",
       "    </tr>\n",
       "    <tr>\n",
       "      <th>4660211</th>\n",
       "      <td>corporalecho</td>\n",
       "      <td>140</td>\n",
       "      <td>367690</td>\n",
       "      <td>NaN</td>\n",
       "    </tr>\n",
       "    <tr>\n",
       "      <th>1169962</th>\n",
       "      <td>jet14</td>\n",
       "      <td>110</td>\n",
       "      <td>239030</td>\n",
       "      <td>9.99</td>\n",
       "    </tr>\n",
       "    <tr>\n",
       "      <th>3917914</th>\n",
       "      <td>76561197990835550</td>\n",
       "      <td>215</td>\n",
       "      <td>55110</td>\n",
       "      <td>19.99</td>\n",
       "    </tr>\n",
       "    <tr>\n",
       "      <th>4299998</th>\n",
       "      <td>tommmmmmmmm</td>\n",
       "      <td>43</td>\n",
       "      <td>219540</td>\n",
       "      <td>NaN</td>\n",
       "    </tr>\n",
       "    <tr>\n",
       "      <th>4455716</th>\n",
       "      <td>76561198052032850</td>\n",
       "      <td>40</td>\n",
       "      <td>380</td>\n",
       "      <td>7.99</td>\n",
       "    </tr>\n",
       "    <tr>\n",
       "      <th>4736084</th>\n",
       "      <td>76561198069478280</td>\n",
       "      <td>11</td>\n",
       "      <td>304270</td>\n",
       "      <td>NaN</td>\n",
       "    </tr>\n",
       "    <tr>\n",
       "      <th>3573051</th>\n",
       "      <td>76561198091638676</td>\n",
       "      <td>29</td>\n",
       "      <td>440090</td>\n",
       "      <td>0.00</td>\n",
       "    </tr>\n",
       "    <tr>\n",
       "      <th>2391393</th>\n",
       "      <td>76561198057674714</td>\n",
       "      <td>71</td>\n",
       "      <td>50</td>\n",
       "      <td>4.99</td>\n",
       "    </tr>\n",
       "    <tr>\n",
       "      <th>4219997</th>\n",
       "      <td>76561198037336064</td>\n",
       "      <td>76</td>\n",
       "      <td>202090</td>\n",
       "      <td>NaN</td>\n",
       "    </tr>\n",
       "  </tbody>\n",
       "</table>\n",
       "</div>"
      ],
      "text/plain": [
       "                   user_id  items_count  item_id  price_fixed\n",
       "2758822  76561198078212818          372   346010         7.99\n",
       "4660211       corporalecho          140   367690          NaN\n",
       "1169962              jet14          110   239030         9.99\n",
       "3917914  76561197990835550          215    55110        19.99\n",
       "4299998        tommmmmmmmm           43   219540          NaN\n",
       "4455716  76561198052032850           40      380         7.99\n",
       "4736084  76561198069478280           11   304270          NaN\n",
       "3573051  76561198091638676           29   440090         0.00\n",
       "2391393  76561198057674714           71       50         4.99\n",
       "4219997  76561198037336064           76   202090          NaN"
      ]
     },
     "execution_count": 61,
     "metadata": {},
     "output_type": "execute_result"
    }
   ],
   "source": [
    "df_merged = user_items.merge(games_price, on='item_id', how='left')\n",
    "df_merged.sample(10)"
   ]
  },
  {
   "cell_type": "code",
   "execution_count": 86,
   "metadata": {},
   "outputs": [
    {
     "data": {
      "text/plain": [
       "user_id\n",
       "--000--               402.77\n",
       "--ace--               166.82\n",
       "--ionex--             109.92\n",
       "-2SV-vuLB-Kg          437.49\n",
       "-404PageNotFound-    1514.31\n",
       "                      ...   \n",
       "zzonci                 19.98\n",
       "zzoptimuszz            64.98\n",
       "zzydrax                99.94\n",
       "zzyfo                 828.51\n",
       "zzzmidmiss            453.67\n",
       "Name: price_fixed, Length: 70912, dtype: float64"
      ]
     },
     "metadata": {},
     "output_type": "display_data"
    }
   ],
   "source": [
    "user_spent = df_merged.groupby('user_id')['price_fixed'].agg('sum')\n",
    "display(user_spent)"
   ]
  },
  {
   "cell_type": "code",
   "execution_count": 63,
   "metadata": {},
   "outputs": [],
   "source": [
    "columns = ['user_id', 'recommend']\n",
    "user_revs = pd.read_csv('./datasets/aus_user_revs_clean.csv', usecols=columns)\n",
    "\n"
   ]
  },
  {
   "cell_type": "code",
   "execution_count": 78,
   "metadata": {},
   "outputs": [
    {
     "data": {
      "text/html": [
       "<div>\n",
       "<style scoped>\n",
       "    .dataframe tbody tr th:only-of-type {\n",
       "        vertical-align: middle;\n",
       "    }\n",
       "\n",
       "    .dataframe tbody tr th {\n",
       "        vertical-align: top;\n",
       "    }\n",
       "\n",
       "    .dataframe thead th {\n",
       "        text-align: right;\n",
       "    }\n",
       "</style>\n",
       "<table border=\"1\" class=\"dataframe\">\n",
       "  <thead>\n",
       "    <tr style=\"text-align: right;\">\n",
       "      <th></th>\n",
       "      <th>user_id</th>\n",
       "      <th>recommend</th>\n",
       "    </tr>\n",
       "  </thead>\n",
       "  <tbody>\n",
       "    <tr>\n",
       "      <th>267</th>\n",
       "      <td>76561198126640317</td>\n",
       "      <td>True</td>\n",
       "    </tr>\n",
       "    <tr>\n",
       "      <th>1700</th>\n",
       "      <td>mainkradxdxdx</td>\n",
       "      <td>True</td>\n",
       "    </tr>\n",
       "    <tr>\n",
       "      <th>36087</th>\n",
       "      <td>lollipopwarrior</td>\n",
       "      <td>True</td>\n",
       "    </tr>\n",
       "    <tr>\n",
       "      <th>32638</th>\n",
       "      <td>76561198035590106</td>\n",
       "      <td>True</td>\n",
       "    </tr>\n",
       "    <tr>\n",
       "      <th>17020</th>\n",
       "      <td>POKESTEAM</td>\n",
       "      <td>True</td>\n",
       "    </tr>\n",
       "  </tbody>\n",
       "</table>\n",
       "</div>"
      ],
      "text/plain": [
       "                 user_id  recommend\n",
       "267    76561198126640317       True\n",
       "1700       mainkradxdxdx       True\n",
       "36087    lollipopwarrior       True\n",
       "32638  76561198035590106       True\n",
       "17020          POKESTEAM       True"
      ]
     },
     "execution_count": 78,
     "metadata": {},
     "output_type": "execute_result"
    }
   ],
   "source": [
    "user_revs.sample(5)"
   ]
  },
  {
   "cell_type": "code",
   "execution_count": 85,
   "metadata": {},
   "outputs": [
    {
     "data": {
      "text/plain": [
       "user_id\n",
       "--000--         1\n",
       "--ace--         2\n",
       "--ionex--       2\n",
       "-2SV-vuLB-Kg    5\n",
       "-Azsael-        1\n",
       "               ..\n",
       "zwanzigdrei     1\n",
       "zy0705          1\n",
       "zynxgameth      1\n",
       "zyr0n1c         9\n",
       "zzoptimuszz     1\n",
       "Name: recommend, Length: 25458, dtype: int64"
      ]
     },
     "execution_count": 85,
     "metadata": {},
     "output_type": "execute_result"
    }
   ],
   "source": [
    "user_revs.groupby('user_id')['recommend'].agg('count')"
   ]
  },
  {
   "cell_type": "code",
   "execution_count": 81,
   "metadata": {},
   "outputs": [],
   "source": [
    "# df_merged_final = user_items.merge(user_revs, on='user_id', how='left')\n"
   ]
  },
  {
   "cell_type": "code",
   "execution_count": 83,
   "metadata": {},
   "outputs": [
    {
     "data": {
      "text/html": [
       "<div>\n",
       "<style scoped>\n",
       "    .dataframe tbody tr th:only-of-type {\n",
       "        vertical-align: middle;\n",
       "    }\n",
       "\n",
       "    .dataframe tbody tr th {\n",
       "        vertical-align: top;\n",
       "    }\n",
       "\n",
       "    .dataframe thead th {\n",
       "        text-align: right;\n",
       "    }\n",
       "</style>\n",
       "<table border=\"1\" class=\"dataframe\">\n",
       "  <thead>\n",
       "    <tr style=\"text-align: right;\">\n",
       "      <th></th>\n",
       "      <th>user_id</th>\n",
       "      <th>items_count</th>\n",
       "      <th>item_id</th>\n",
       "      <th>recommend</th>\n",
       "    </tr>\n",
       "  </thead>\n",
       "  <tbody>\n",
       "    <tr>\n",
       "      <th>6127825</th>\n",
       "      <td>cod1245678</td>\n",
       "      <td>135</td>\n",
       "      <td>202070</td>\n",
       "      <td>NaN</td>\n",
       "    </tr>\n",
       "    <tr>\n",
       "      <th>3658413</th>\n",
       "      <td>sterscram</td>\n",
       "      <td>93</td>\n",
       "      <td>56400</td>\n",
       "      <td>True</td>\n",
       "    </tr>\n",
       "    <tr>\n",
       "      <th>1924515</th>\n",
       "      <td>CoNnEcT500BR</td>\n",
       "      <td>136</td>\n",
       "      <td>202090</td>\n",
       "      <td>True</td>\n",
       "    </tr>\n",
       "    <tr>\n",
       "      <th>8713778</th>\n",
       "      <td>76561198026996483</td>\n",
       "      <td>797</td>\n",
       "      <td>386880</td>\n",
       "      <td>True</td>\n",
       "    </tr>\n",
       "    <tr>\n",
       "      <th>3095168</th>\n",
       "      <td>76561198012040937</td>\n",
       "      <td>50</td>\n",
       "      <td>23310</td>\n",
       "      <td>NaN</td>\n",
       "    </tr>\n",
       "    <tr>\n",
       "      <th>5595717</th>\n",
       "      <td>76561198133624222</td>\n",
       "      <td>186</td>\n",
       "      <td>409710</td>\n",
       "      <td>True</td>\n",
       "    </tr>\n",
       "    <tr>\n",
       "      <th>2121867</th>\n",
       "      <td>randyy242</td>\n",
       "      <td>514</td>\n",
       "      <td>305620</td>\n",
       "      <td>True</td>\n",
       "    </tr>\n",
       "    <tr>\n",
       "      <th>3527295</th>\n",
       "      <td>z3b1z</td>\n",
       "      <td>300</td>\n",
       "      <td>255520</td>\n",
       "      <td>True</td>\n",
       "    </tr>\n",
       "    <tr>\n",
       "      <th>7211681</th>\n",
       "      <td>76561198044448119</td>\n",
       "      <td>52</td>\n",
       "      <td>239220</td>\n",
       "      <td>NaN</td>\n",
       "    </tr>\n",
       "    <tr>\n",
       "      <th>9190367</th>\n",
       "      <td>rezmwashere</td>\n",
       "      <td>89</td>\n",
       "      <td>252490</td>\n",
       "      <td>True</td>\n",
       "    </tr>\n",
       "    <tr>\n",
       "      <th>6680208</th>\n",
       "      <td>moxxi2050</td>\n",
       "      <td>359</td>\n",
       "      <td>227700</td>\n",
       "      <td>True</td>\n",
       "    </tr>\n",
       "    <tr>\n",
       "      <th>3896637</th>\n",
       "      <td>76561198054378776</td>\n",
       "      <td>26</td>\n",
       "      <td>400</td>\n",
       "      <td>NaN</td>\n",
       "    </tr>\n",
       "    <tr>\n",
       "      <th>1792450</th>\n",
       "      <td>blakey700</td>\n",
       "      <td>77</td>\n",
       "      <td>221100</td>\n",
       "      <td>True</td>\n",
       "    </tr>\n",
       "    <tr>\n",
       "      <th>162028</th>\n",
       "      <td>Infixation</td>\n",
       "      <td>601</td>\n",
       "      <td>277500</td>\n",
       "      <td>True</td>\n",
       "    </tr>\n",
       "    <tr>\n",
       "      <th>4284789</th>\n",
       "      <td>jadziatuvok</td>\n",
       "      <td>823</td>\n",
       "      <td>113020</td>\n",
       "      <td>True</td>\n",
       "    </tr>\n",
       "    <tr>\n",
       "      <th>6550564</th>\n",
       "      <td>76561198048401365</td>\n",
       "      <td>41</td>\n",
       "      <td>268540</td>\n",
       "      <td>NaN</td>\n",
       "    </tr>\n",
       "    <tr>\n",
       "      <th>4505186</th>\n",
       "      <td>Quitespace</td>\n",
       "      <td>159</td>\n",
       "      <td>341190</td>\n",
       "      <td>True</td>\n",
       "    </tr>\n",
       "    <tr>\n",
       "      <th>559742</th>\n",
       "      <td>76561198080838936</td>\n",
       "      <td>40</td>\n",
       "      <td>91310</td>\n",
       "      <td>NaN</td>\n",
       "    </tr>\n",
       "    <tr>\n",
       "      <th>7704174</th>\n",
       "      <td>BigLIsaGod</td>\n",
       "      <td>203</td>\n",
       "      <td>276730</td>\n",
       "      <td>True</td>\n",
       "    </tr>\n",
       "    <tr>\n",
       "      <th>5630734</th>\n",
       "      <td>feraldog</td>\n",
       "      <td>603</td>\n",
       "      <td>217920</td>\n",
       "      <td>True</td>\n",
       "    </tr>\n",
       "  </tbody>\n",
       "</table>\n",
       "</div>"
      ],
      "text/plain": [
       "                   user_id  items_count  item_id recommend\n",
       "6127825         cod1245678          135   202070       NaN\n",
       "3658413          sterscram           93    56400      True\n",
       "1924515       CoNnEcT500BR          136   202090      True\n",
       "8713778  76561198026996483          797   386880      True\n",
       "3095168  76561198012040937           50    23310       NaN\n",
       "5595717  76561198133624222          186   409710      True\n",
       "2121867          randyy242          514   305620      True\n",
       "3527295              z3b1z          300   255520      True\n",
       "7211681  76561198044448119           52   239220       NaN\n",
       "9190367        rezmwashere           89   252490      True\n",
       "6680208          moxxi2050          359   227700      True\n",
       "3896637  76561198054378776           26      400       NaN\n",
       "1792450          blakey700           77   221100      True\n",
       "162028          Infixation          601   277500      True\n",
       "4284789        jadziatuvok          823   113020      True\n",
       "6550564  76561198048401365           41   268540       NaN\n",
       "4505186         Quitespace          159   341190      True\n",
       "559742   76561198080838936           40    91310       NaN\n",
       "7704174         BigLIsaGod          203   276730      True\n",
       "5630734           feraldog          603   217920      True"
      ]
     },
     "execution_count": 83,
     "metadata": {},
     "output_type": "execute_result"
    }
   ],
   "source": [
    "# df_merged_final.sample(20)"
   ]
  }
 ],
 "metadata": {
  "kernelspec": {
   "display_name": "env_python_3.10",
   "language": "python",
   "name": "python3"
  },
  "language_info": {
   "codemirror_mode": {
    "name": "ipython",
    "version": 3
   },
   "file_extension": ".py",
   "mimetype": "text/x-python",
   "name": "python",
   "nbconvert_exporter": "python",
   "pygments_lexer": "ipython3",
   "version": "3.10.8"
  },
  "orig_nbformat": 4
 },
 "nbformat": 4,
 "nbformat_minor": 2
}
